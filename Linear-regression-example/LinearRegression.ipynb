{
 "cells": [
  {
   "cell_type": "markdown",
   "metadata": {},
   "source": [
    "# Machine Learning : Régression Linéaire et Polynômiale\n",
    "\n",
    "\n"
   ]
  },
  {
   "cell_type": "code",
   "execution_count": 1,
   "metadata": {},
   "outputs": [],
   "source": [
    "import numpy as np\n",
    "import matplotlib.pyplot as plt"
   ]
  },
  {
   "cell_type": "markdown",
   "metadata": {},
   "source": [
    "\n",
    "## 1. Régression\n",
    "\n",
    "### a) Modèle"
   ]
  },
  {
   "cell_type": "code",
   "execution_count": 2,
   "metadata": {},
   "outputs": [],
   "source": [
    "def modele(X, theta):\n",
    "    return np.dot(X,theta)"
   ]
  },
  {
   "cell_type": "markdown",
   "metadata": {},
   "source": [
    "### b) Fonction coût"
   ]
  },
  {
   "cell_type": "code",
   "execution_count": 3,
   "metadata": {},
   "outputs": [],
   "source": [
    "def cost_function(X, y, theta):\n",
    "    m = len(y)\n",
    "    return (1/(2*m))*((modele(X, theta) - y)**2).sum()"
   ]
  },
  {
   "cell_type": "markdown",
   "metadata": {},
   "source": [
    "### c) Gradient"
   ]
  },
  {
   "cell_type": "code",
   "execution_count": 4,
   "metadata": {},
   "outputs": [],
   "source": [
    "def gradient(X, y, theta):\n",
    "    m = len(y)\n",
    "    return (1/m)*X.T.dot(modele(X, theta) - y)"
   ]
  },
  {
   "cell_type": "markdown",
   "metadata": {},
   "source": [
    "### d) Gradient Descent"
   ]
  },
  {
   "cell_type": "code",
   "execution_count": 5,
   "metadata": {},
   "outputs": [],
   "source": [
    "def gradient_descent(X, y, theta, learning_rate, nb_iterations):\n",
    "    historique_couts = []\n",
    "    for i in range(nb_iterations):\n",
    "        historique_couts.append(cost_function(X, y, theta))\n",
    "        theta -= learning_rate * gradient(X, y, theta)\n",
    "        \n",
    "    return theta, historique_couts"
   ]
  },
  {
   "cell_type": "markdown",
   "metadata": {},
   "source": [
    "------------------------------------------------------\n",
    "\n",
    "                                                          \n",
    "                                                          \n",
    "## Utilisation d'une base de données de poissons pour le modèle de régression linéaire\n",
    "#### Source : https://lionbridge.ai"
   ]
  },
  {
   "cell_type": "code",
   "execution_count": 6,
   "metadata": {},
   "outputs": [],
   "source": [
    "import csv"
   ]
  },
  {
   "cell_type": "code",
   "execution_count": 7,
   "metadata": {},
   "outputs": [
    {
     "data": {
      "text/plain": [
       "array([['Bream', '242', '23.2', ..., '30', '11.52', '4.02'],\n",
       "       ['Bream', '290', '24', ..., '31.2', '12.48', '4.3056'],\n",
       "       ['Bream', '340', '23.9', ..., '31.1', '12.3778', '4.6961'],\n",
       "       ...,\n",
       "       ['Smelt', '12.2', '12.1', ..., '13.8', '2.277', '1.2558'],\n",
       "       ['Smelt', '19.7', '13.2', ..., '15.2', '2.8728', '2.0672'],\n",
       "       ['Smelt', '19.9', '13.8', ..., '16.2', '2.9322', '1.8792']],\n",
       "      dtype='<U9')"
      ]
     },
     "execution_count": 7,
     "metadata": {},
     "output_type": "execute_result"
    }
   ],
   "source": [
    "dataset = []\n",
    "with open('fish_dataset.csv', 'r') as f:\n",
    "    datas = csv.reader(f)\n",
    "    for row in datas:\n",
    "        dataset.append(row)\n",
    "del dataset[0]\n",
    "dataset = np.array(dataset)\n",
    "dataset"
   ]
  },
  {
   "cell_type": "code",
   "execution_count": 8,
   "metadata": {},
   "outputs": [],
   "source": [
    "dataset = np.delete(dataset, 0, axis=1).astype(float)"
   ]
  },
  {
   "cell_type": "code",
   "execution_count": 9,
   "metadata": {},
   "outputs": [
    {
     "data": {
      "text/plain": [
       "array([[2.42000e+02, 2.32000e+01, 2.54000e+01, 3.00000e+01, 1.15200e+01,\n",
       "        4.02000e+00],\n",
       "       [2.90000e+02, 2.40000e+01, 2.63000e+01, 3.12000e+01, 1.24800e+01,\n",
       "        4.30560e+00],\n",
       "       [3.40000e+02, 2.39000e+01, 2.65000e+01, 3.11000e+01, 1.23778e+01,\n",
       "        4.69610e+00],\n",
       "       [3.63000e+02, 2.63000e+01, 2.90000e+01, 3.35000e+01, 1.27300e+01,\n",
       "        4.45550e+00],\n",
       "       [4.30000e+02, 2.65000e+01, 2.90000e+01, 3.40000e+01, 1.24440e+01,\n",
       "        5.13400e+00],\n",
       "       [4.50000e+02, 2.68000e+01, 2.97000e+01, 3.47000e+01, 1.36024e+01,\n",
       "        4.92740e+00],\n",
       "       [5.00000e+02, 2.68000e+01, 2.97000e+01, 3.45000e+01, 1.41795e+01,\n",
       "        5.27850e+00],\n",
       "       [3.90000e+02, 2.76000e+01, 3.00000e+01, 3.50000e+01, 1.26700e+01,\n",
       "        4.69000e+00],\n",
       "       [4.50000e+02, 2.76000e+01, 3.00000e+01, 3.51000e+01, 1.40049e+01,\n",
       "        4.84380e+00],\n",
       "       [5.00000e+02, 2.85000e+01, 3.07000e+01, 3.62000e+01, 1.42266e+01,\n",
       "        4.95940e+00],\n",
       "       [4.75000e+02, 2.84000e+01, 3.10000e+01, 3.62000e+01, 1.42628e+01,\n",
       "        5.10420e+00],\n",
       "       [5.00000e+02, 2.87000e+01, 3.10000e+01, 3.62000e+01, 1.43714e+01,\n",
       "        4.81460e+00],\n",
       "       [5.00000e+02, 2.91000e+01, 3.15000e+01, 3.64000e+01, 1.37592e+01,\n",
       "        4.36800e+00],\n",
       "       [3.40000e+02, 2.95000e+01, 3.20000e+01, 3.73000e+01, 1.39129e+01,\n",
       "        5.07280e+00],\n",
       "       [6.00000e+02, 2.94000e+01, 3.20000e+01, 3.72000e+01, 1.49544e+01,\n",
       "        5.17080e+00],\n",
       "       [6.00000e+02, 2.94000e+01, 3.20000e+01, 3.72000e+01, 1.54380e+01,\n",
       "        5.58000e+00],\n",
       "       [7.00000e+02, 3.04000e+01, 3.30000e+01, 3.83000e+01, 1.48604e+01,\n",
       "        5.28540e+00],\n",
       "       [7.00000e+02, 3.04000e+01, 3.30000e+01, 3.85000e+01, 1.49380e+01,\n",
       "        5.19750e+00],\n",
       "       [6.10000e+02, 3.09000e+01, 3.35000e+01, 3.86000e+01, 1.56330e+01,\n",
       "        5.13380e+00],\n",
       "       [6.50000e+02, 3.10000e+01, 3.35000e+01, 3.87000e+01, 1.44738e+01,\n",
       "        5.72760e+00],\n",
       "       [5.75000e+02, 3.13000e+01, 3.40000e+01, 3.95000e+01, 1.51285e+01,\n",
       "        5.56950e+00],\n",
       "       [6.85000e+02, 3.14000e+01, 3.40000e+01, 3.92000e+01, 1.59936e+01,\n",
       "        5.37040e+00],\n",
       "       [6.20000e+02, 3.15000e+01, 3.45000e+01, 3.97000e+01, 1.55227e+01,\n",
       "        5.28010e+00],\n",
       "       [6.80000e+02, 3.18000e+01, 3.50000e+01, 4.06000e+01, 1.54686e+01,\n",
       "        6.13060e+00],\n",
       "       [7.00000e+02, 3.19000e+01, 3.50000e+01, 4.05000e+01, 1.62405e+01,\n",
       "        5.58900e+00],\n",
       "       [7.25000e+02, 3.18000e+01, 3.50000e+01, 4.09000e+01, 1.63600e+01,\n",
       "        6.05320e+00],\n",
       "       [7.20000e+02, 3.20000e+01, 3.50000e+01, 4.06000e+01, 1.63618e+01,\n",
       "        6.09000e+00],\n",
       "       [7.14000e+02, 3.27000e+01, 3.60000e+01, 4.15000e+01, 1.65170e+01,\n",
       "        5.85150e+00],\n",
       "       [8.50000e+02, 3.28000e+01, 3.60000e+01, 4.16000e+01, 1.68896e+01,\n",
       "        6.19840e+00],\n",
       "       [1.00000e+03, 3.35000e+01, 3.70000e+01, 4.26000e+01, 1.89570e+01,\n",
       "        6.60300e+00],\n",
       "       [9.20000e+02, 3.50000e+01, 3.85000e+01, 4.41000e+01, 1.80369e+01,\n",
       "        6.30630e+00],\n",
       "       [9.55000e+02, 3.50000e+01, 3.85000e+01, 4.40000e+01, 1.80840e+01,\n",
       "        6.29200e+00],\n",
       "       [9.25000e+02, 3.62000e+01, 3.95000e+01, 4.53000e+01, 1.87542e+01,\n",
       "        6.74970e+00],\n",
       "       [9.75000e+02, 3.74000e+01, 4.10000e+01, 4.59000e+01, 1.86354e+01,\n",
       "        6.74730e+00],\n",
       "       [9.50000e+02, 3.80000e+01, 4.10000e+01, 4.65000e+01, 1.76235e+01,\n",
       "        6.37050e+00],\n",
       "       [4.00000e+01, 1.29000e+01, 1.41000e+01, 1.62000e+01, 4.14720e+00,\n",
       "        2.26800e+00],\n",
       "       [6.90000e+01, 1.65000e+01, 1.82000e+01, 2.03000e+01, 5.29830e+00,\n",
       "        2.82170e+00],\n",
       "       [7.80000e+01, 1.75000e+01, 1.88000e+01, 2.12000e+01, 5.57560e+00,\n",
       "        2.90440e+00],\n",
       "       [8.70000e+01, 1.82000e+01, 1.98000e+01, 2.22000e+01, 5.61660e+00,\n",
       "        3.17460e+00],\n",
       "       [1.20000e+02, 1.86000e+01, 2.00000e+01, 2.22000e+01, 6.21600e+00,\n",
       "        3.57420e+00],\n",
       "       [0.00000e+00, 1.90000e+01, 2.05000e+01, 2.28000e+01, 6.47520e+00,\n",
       "        3.35160e+00],\n",
       "       [1.10000e+02, 1.91000e+01, 2.08000e+01, 2.31000e+01, 6.16770e+00,\n",
       "        3.39570e+00],\n",
       "       [1.20000e+02, 1.94000e+01, 2.10000e+01, 2.37000e+01, 6.11460e+00,\n",
       "        3.29430e+00],\n",
       "       [1.50000e+02, 2.04000e+01, 2.20000e+01, 2.47000e+01, 5.80450e+00,\n",
       "        3.75440e+00],\n",
       "       [1.45000e+02, 2.05000e+01, 2.20000e+01, 2.43000e+01, 6.63390e+00,\n",
       "        3.54780e+00],\n",
       "       [1.60000e+02, 2.05000e+01, 2.25000e+01, 2.53000e+01, 7.03340e+00,\n",
       "        3.82030e+00],\n",
       "       [1.40000e+02, 2.10000e+01, 2.25000e+01, 2.50000e+01, 6.55000e+00,\n",
       "        3.32500e+00],\n",
       "       [1.60000e+02, 2.11000e+01, 2.25000e+01, 2.50000e+01, 6.40000e+00,\n",
       "        3.80000e+00],\n",
       "       [1.69000e+02, 2.20000e+01, 2.40000e+01, 2.72000e+01, 7.53440e+00,\n",
       "        3.83520e+00],\n",
       "       [1.61000e+02, 2.20000e+01, 2.34000e+01, 2.67000e+01, 6.91530e+00,\n",
       "        3.63120e+00],\n",
       "       [2.00000e+02, 2.21000e+01, 2.35000e+01, 2.68000e+01, 7.39680e+00,\n",
       "        4.12720e+00],\n",
       "       [1.80000e+02, 2.36000e+01, 2.52000e+01, 2.79000e+01, 7.08660e+00,\n",
       "        3.90600e+00],\n",
       "       [2.90000e+02, 2.40000e+01, 2.60000e+01, 2.92000e+01, 8.87680e+00,\n",
       "        4.49680e+00],\n",
       "       [2.72000e+02, 2.50000e+01, 2.70000e+01, 3.06000e+01, 8.56800e+00,\n",
       "        4.77360e+00],\n",
       "       [3.90000e+02, 2.95000e+01, 3.17000e+01, 3.50000e+01, 9.48500e+00,\n",
       "        5.35500e+00],\n",
       "       [2.70000e+02, 2.36000e+01, 2.60000e+01, 2.87000e+01, 8.38040e+00,\n",
       "        4.24760e+00],\n",
       "       [2.70000e+02, 2.41000e+01, 2.65000e+01, 2.93000e+01, 8.14540e+00,\n",
       "        4.24850e+00],\n",
       "       [3.06000e+02, 2.56000e+01, 2.80000e+01, 3.08000e+01, 8.77800e+00,\n",
       "        4.68160e+00],\n",
       "       [5.40000e+02, 2.85000e+01, 3.10000e+01, 3.40000e+01, 1.07440e+01,\n",
       "        6.56200e+00],\n",
       "       [8.00000e+02, 3.37000e+01, 3.64000e+01, 3.96000e+01, 1.17612e+01,\n",
       "        6.57360e+00],\n",
       "       [1.00000e+03, 3.73000e+01, 4.00000e+01, 4.35000e+01, 1.23540e+01,\n",
       "        6.52500e+00],\n",
       "       [5.50000e+01, 1.35000e+01, 1.47000e+01, 1.65000e+01, 6.84750e+00,\n",
       "        2.32650e+00],\n",
       "       [6.00000e+01, 1.43000e+01, 1.55000e+01, 1.74000e+01, 6.57720e+00,\n",
       "        2.31420e+00],\n",
       "       [9.00000e+01, 1.63000e+01, 1.77000e+01, 1.98000e+01, 7.40520e+00,\n",
       "        2.67300e+00],\n",
       "       [1.20000e+02, 1.75000e+01, 1.90000e+01, 2.13000e+01, 8.39220e+00,\n",
       "        2.91810e+00],\n",
       "       [1.50000e+02, 1.84000e+01, 2.00000e+01, 2.24000e+01, 8.89280e+00,\n",
       "        3.29280e+00],\n",
       "       [1.40000e+02, 1.90000e+01, 2.07000e+01, 2.32000e+01, 8.53760e+00,\n",
       "        3.29440e+00],\n",
       "       [1.70000e+02, 1.90000e+01, 2.07000e+01, 2.32000e+01, 9.39600e+00,\n",
       "        3.41040e+00],\n",
       "       [1.45000e+02, 1.98000e+01, 2.15000e+01, 2.41000e+01, 9.73640e+00,\n",
       "        3.15710e+00],\n",
       "       [2.00000e+02, 2.12000e+01, 2.30000e+01, 2.58000e+01, 1.03458e+01,\n",
       "        3.66360e+00],\n",
       "       [2.73000e+02, 2.30000e+01, 2.50000e+01, 2.80000e+01, 1.10880e+01,\n",
       "        4.14400e+00],\n",
       "       [3.00000e+02, 2.40000e+01, 2.60000e+01, 2.90000e+01, 1.13680e+01,\n",
       "        4.23400e+00],\n",
       "       [5.90000e+00, 7.50000e+00, 8.40000e+00, 8.80000e+00, 2.11200e+00,\n",
       "        1.40800e+00],\n",
       "       [3.20000e+01, 1.25000e+01, 1.37000e+01, 1.47000e+01, 3.52800e+00,\n",
       "        1.99920e+00],\n",
       "       [4.00000e+01, 1.38000e+01, 1.50000e+01, 1.60000e+01, 3.82400e+00,\n",
       "        2.43200e+00],\n",
       "       [5.15000e+01, 1.50000e+01, 1.62000e+01, 1.72000e+01, 4.59240e+00,\n",
       "        2.63160e+00],\n",
       "       [7.00000e+01, 1.57000e+01, 1.74000e+01, 1.85000e+01, 4.58800e+00,\n",
       "        2.94150e+00],\n",
       "       [1.00000e+02, 1.62000e+01, 1.80000e+01, 1.92000e+01, 5.22240e+00,\n",
       "        3.32160e+00],\n",
       "       [7.80000e+01, 1.68000e+01, 1.87000e+01, 1.94000e+01, 5.19920e+00,\n",
       "        3.12340e+00],\n",
       "       [8.00000e+01, 1.72000e+01, 1.90000e+01, 2.02000e+01, 5.63580e+00,\n",
       "        3.05020e+00],\n",
       "       [8.50000e+01, 1.78000e+01, 1.96000e+01, 2.08000e+01, 5.13760e+00,\n",
       "        3.03680e+00],\n",
       "       [8.50000e+01, 1.82000e+01, 2.00000e+01, 2.10000e+01, 5.08200e+00,\n",
       "        2.77200e+00],\n",
       "       [1.10000e+02, 1.90000e+01, 2.10000e+01, 2.25000e+01, 5.69250e+00,\n",
       "        3.55500e+00],\n",
       "       [1.15000e+02, 1.90000e+01, 2.10000e+01, 2.25000e+01, 5.91750e+00,\n",
       "        3.30750e+00],\n",
       "       [1.25000e+02, 1.90000e+01, 2.10000e+01, 2.25000e+01, 5.69250e+00,\n",
       "        3.66750e+00],\n",
       "       [1.30000e+02, 1.93000e+01, 2.13000e+01, 2.28000e+01, 6.38400e+00,\n",
       "        3.53400e+00],\n",
       "       [1.20000e+02, 2.00000e+01, 2.20000e+01, 2.35000e+01, 6.11000e+00,\n",
       "        3.40750e+00],\n",
       "       [1.20000e+02, 2.00000e+01, 2.20000e+01, 2.35000e+01, 5.64000e+00,\n",
       "        3.52500e+00],\n",
       "       [1.30000e+02, 2.00000e+01, 2.20000e+01, 2.35000e+01, 6.11000e+00,\n",
       "        3.52500e+00],\n",
       "       [1.35000e+02, 2.00000e+01, 2.20000e+01, 2.35000e+01, 5.87500e+00,\n",
       "        3.52500e+00],\n",
       "       [1.10000e+02, 2.00000e+01, 2.20000e+01, 2.35000e+01, 5.52250e+00,\n",
       "        3.99500e+00],\n",
       "       [1.30000e+02, 2.05000e+01, 2.25000e+01, 2.40000e+01, 5.85600e+00,\n",
       "        3.62400e+00],\n",
       "       [1.50000e+02, 2.05000e+01, 2.25000e+01, 2.40000e+01, 6.79200e+00,\n",
       "        3.62400e+00],\n",
       "       [1.45000e+02, 2.07000e+01, 2.27000e+01, 2.42000e+01, 5.95320e+00,\n",
       "        3.63000e+00],\n",
       "       [1.50000e+02, 2.10000e+01, 2.30000e+01, 2.45000e+01, 5.21850e+00,\n",
       "        3.62600e+00],\n",
       "       [1.70000e+02, 2.15000e+01, 2.35000e+01, 2.50000e+01, 6.27500e+00,\n",
       "        3.72500e+00],\n",
       "       [2.25000e+02, 2.20000e+01, 2.40000e+01, 2.55000e+01, 7.29300e+00,\n",
       "        3.72300e+00],\n",
       "       [1.45000e+02, 2.20000e+01, 2.40000e+01, 2.55000e+01, 6.37500e+00,\n",
       "        3.82500e+00],\n",
       "       [1.88000e+02, 2.26000e+01, 2.46000e+01, 2.62000e+01, 6.73340e+00,\n",
       "        4.16580e+00],\n",
       "       [1.80000e+02, 2.30000e+01, 2.50000e+01, 2.65000e+01, 6.43950e+00,\n",
       "        3.68350e+00],\n",
       "       [1.97000e+02, 2.35000e+01, 2.56000e+01, 2.70000e+01, 6.56100e+00,\n",
       "        4.23900e+00],\n",
       "       [2.18000e+02, 2.50000e+01, 2.65000e+01, 2.80000e+01, 7.16800e+00,\n",
       "        4.14400e+00],\n",
       "       [3.00000e+02, 2.52000e+01, 2.73000e+01, 2.87000e+01, 8.32300e+00,\n",
       "        5.13730e+00],\n",
       "       [2.60000e+02, 2.54000e+01, 2.75000e+01, 2.89000e+01, 7.16720e+00,\n",
       "        4.33500e+00],\n",
       "       [2.65000e+02, 2.54000e+01, 2.75000e+01, 2.89000e+01, 7.05160e+00,\n",
       "        4.33500e+00],\n",
       "       [2.50000e+02, 2.54000e+01, 2.75000e+01, 2.89000e+01, 7.28280e+00,\n",
       "        4.56620e+00],\n",
       "       [2.50000e+02, 2.59000e+01, 2.80000e+01, 2.94000e+01, 7.82040e+00,\n",
       "        4.20420e+00],\n",
       "       [3.00000e+02, 2.69000e+01, 2.87000e+01, 3.01000e+01, 7.58520e+00,\n",
       "        4.63540e+00],\n",
       "       [3.20000e+02, 2.78000e+01, 3.00000e+01, 3.16000e+01, 7.61560e+00,\n",
       "        4.77160e+00],\n",
       "       [5.14000e+02, 3.05000e+01, 3.28000e+01, 3.40000e+01, 1.00300e+01,\n",
       "        6.01800e+00],\n",
       "       [5.56000e+02, 3.20000e+01, 3.45000e+01, 3.65000e+01, 1.02565e+01,\n",
       "        6.38750e+00],\n",
       "       [8.40000e+02, 3.25000e+01, 3.50000e+01, 3.73000e+01, 1.14884e+01,\n",
       "        7.79570e+00],\n",
       "       [6.85000e+02, 3.40000e+01, 3.65000e+01, 3.90000e+01, 1.08810e+01,\n",
       "        6.86400e+00],\n",
       "       [7.00000e+02, 3.40000e+01, 3.60000e+01, 3.83000e+01, 1.06091e+01,\n",
       "        6.74080e+00],\n",
       "       [7.00000e+02, 3.45000e+01, 3.70000e+01, 3.94000e+01, 1.08350e+01,\n",
       "        6.26460e+00],\n",
       "       [6.90000e+02, 3.46000e+01, 3.70000e+01, 3.93000e+01, 1.05717e+01,\n",
       "        6.36660e+00],\n",
       "       [9.00000e+02, 3.65000e+01, 3.90000e+01, 4.14000e+01, 1.11366e+01,\n",
       "        7.49340e+00],\n",
       "       [6.50000e+02, 3.65000e+01, 3.90000e+01, 4.14000e+01, 1.11366e+01,\n",
       "        6.00300e+00],\n",
       "       [8.20000e+02, 3.66000e+01, 3.90000e+01, 4.13000e+01, 1.24313e+01,\n",
       "        7.35140e+00],\n",
       "       [8.50000e+02, 3.69000e+01, 4.00000e+01, 4.23000e+01, 1.19286e+01,\n",
       "        7.10640e+00],\n",
       "       [9.00000e+02, 3.70000e+01, 4.00000e+01, 4.25000e+01, 1.17300e+01,\n",
       "        7.22500e+00],\n",
       "       [1.01500e+03, 3.70000e+01, 4.00000e+01, 4.24000e+01, 1.23808e+01,\n",
       "        7.46240e+00],\n",
       "       [8.20000e+02, 3.71000e+01, 4.00000e+01, 4.25000e+01, 1.11350e+01,\n",
       "        6.63000e+00],\n",
       "       [1.10000e+03, 3.90000e+01, 4.20000e+01, 4.46000e+01, 1.28002e+01,\n",
       "        6.86840e+00],\n",
       "       [1.00000e+03, 3.98000e+01, 4.30000e+01, 4.52000e+01, 1.19328e+01,\n",
       "        7.27720e+00],\n",
       "       [1.10000e+03, 4.01000e+01, 4.30000e+01, 4.55000e+01, 1.25125e+01,\n",
       "        7.41650e+00],\n",
       "       [1.00000e+03, 4.02000e+01, 4.35000e+01, 4.60000e+01, 1.26040e+01,\n",
       "        8.14200e+00],\n",
       "       [1.00000e+03, 4.11000e+01, 4.40000e+01, 4.66000e+01, 1.24888e+01,\n",
       "        7.59580e+00],\n",
       "       [2.00000e+02, 3.00000e+01, 3.23000e+01, 3.48000e+01, 5.56800e+00,\n",
       "        3.37560e+00],\n",
       "       [3.00000e+02, 3.17000e+01, 3.40000e+01, 3.78000e+01, 5.70780e+00,\n",
       "        4.15800e+00],\n",
       "       [3.00000e+02, 3.27000e+01, 3.50000e+01, 3.88000e+01, 5.93640e+00,\n",
       "        4.38440e+00],\n",
       "       [3.00000e+02, 3.48000e+01, 3.73000e+01, 3.98000e+01, 6.28840e+00,\n",
       "        4.01980e+00],\n",
       "       [4.30000e+02, 3.55000e+01, 3.80000e+01, 4.05000e+01, 7.29000e+00,\n",
       "        4.57650e+00],\n",
       "       [3.45000e+02, 3.60000e+01, 3.85000e+01, 4.10000e+01, 6.39600e+00,\n",
       "        3.97700e+00],\n",
       "       [4.56000e+02, 4.00000e+01, 4.25000e+01, 4.55000e+01, 7.28000e+00,\n",
       "        4.32250e+00],\n",
       "       [5.10000e+02, 4.00000e+01, 4.25000e+01, 4.55000e+01, 6.82500e+00,\n",
       "        4.45900e+00],\n",
       "       [5.40000e+02, 4.01000e+01, 4.30000e+01, 4.58000e+01, 7.78600e+00,\n",
       "        5.12960e+00],\n",
       "       [5.00000e+02, 4.20000e+01, 4.50000e+01, 4.80000e+01, 6.96000e+00,\n",
       "        4.89600e+00],\n",
       "       [5.67000e+02, 4.32000e+01, 4.60000e+01, 4.87000e+01, 7.79200e+00,\n",
       "        4.87000e+00],\n",
       "       [7.70000e+02, 4.48000e+01, 4.80000e+01, 5.12000e+01, 7.68000e+00,\n",
       "        5.37600e+00],\n",
       "       [9.50000e+02, 4.83000e+01, 5.17000e+01, 5.51000e+01, 8.92620e+00,\n",
       "        6.17120e+00],\n",
       "       [1.25000e+03, 5.20000e+01, 5.60000e+01, 5.97000e+01, 1.06863e+01,\n",
       "        6.98490e+00],\n",
       "       [1.60000e+03, 5.60000e+01, 6.00000e+01, 6.40000e+01, 9.60000e+00,\n",
       "        6.14400e+00],\n",
       "       [1.55000e+03, 5.60000e+01, 6.00000e+01, 6.40000e+01, 9.60000e+00,\n",
       "        6.14400e+00],\n",
       "       [1.65000e+03, 5.90000e+01, 6.34000e+01, 6.80000e+01, 1.08120e+01,\n",
       "        7.48000e+00],\n",
       "       [6.70000e+00, 9.30000e+00, 9.80000e+00, 1.08000e+01, 1.73880e+00,\n",
       "        1.04760e+00],\n",
       "       [7.50000e+00, 1.00000e+01, 1.05000e+01, 1.16000e+01, 1.97200e+00,\n",
       "        1.16000e+00],\n",
       "       [7.00000e+00, 1.01000e+01, 1.06000e+01, 1.16000e+01, 1.72840e+00,\n",
       "        1.14840e+00],\n",
       "       [9.70000e+00, 1.04000e+01, 1.10000e+01, 1.20000e+01, 2.19600e+00,\n",
       "        1.38000e+00],\n",
       "       [9.80000e+00, 1.07000e+01, 1.12000e+01, 1.24000e+01, 2.08320e+00,\n",
       "        1.27720e+00],\n",
       "       [8.70000e+00, 1.08000e+01, 1.13000e+01, 1.26000e+01, 1.97820e+00,\n",
       "        1.28520e+00],\n",
       "       [1.00000e+01, 1.13000e+01, 1.18000e+01, 1.31000e+01, 2.21390e+00,\n",
       "        1.28380e+00],\n",
       "       [9.90000e+00, 1.13000e+01, 1.18000e+01, 1.31000e+01, 2.21390e+00,\n",
       "        1.16590e+00],\n",
       "       [9.80000e+00, 1.14000e+01, 1.20000e+01, 1.32000e+01, 2.20440e+00,\n",
       "        1.14840e+00],\n",
       "       [1.22000e+01, 1.15000e+01, 1.22000e+01, 1.34000e+01, 2.09040e+00,\n",
       "        1.39360e+00],\n",
       "       [1.34000e+01, 1.17000e+01, 1.24000e+01, 1.35000e+01, 2.43000e+00,\n",
       "        1.26900e+00],\n",
       "       [1.22000e+01, 1.21000e+01, 1.30000e+01, 1.38000e+01, 2.27700e+00,\n",
       "        1.25580e+00],\n",
       "       [1.97000e+01, 1.32000e+01, 1.43000e+01, 1.52000e+01, 2.87280e+00,\n",
       "        2.06720e+00],\n",
       "       [1.99000e+01, 1.38000e+01, 1.50000e+01, 1.62000e+01, 2.93220e+00,\n",
       "        1.87920e+00]])"
      ]
     },
     "execution_count": 9,
     "metadata": {},
     "output_type": "execute_result"
    }
   ],
   "source": [
    "dataset"
   ]
  },
  {
   "cell_type": "code",
   "execution_count": 10,
   "metadata": {},
   "outputs": [],
   "source": [
    "y = dataset[:, 0].copy() # Weight\n",
    "x1 = dataset[:, 4].copy() # Height\n",
    "\n",
    "# Correction des dimensions des matrices\n",
    "y = y.reshape(y.shape[0],1)\n",
    "x1 = x1.reshape(x1.shape[0],1)"
   ]
  },
  {
   "cell_type": "markdown",
   "metadata": {},
   "source": [
    "#### Dans cet exemple, nous cherchons donc à prédire la masse du poisson à partir de sa longueur"
   ]
  },
  {
   "cell_type": "code",
   "execution_count": 11,
   "metadata": {},
   "outputs": [],
   "source": [
    "X1 = np.hstack((x1, np.ones(x1.shape)))"
   ]
  },
  {
   "cell_type": "code",
   "execution_count": 12,
   "metadata": {},
   "outputs": [
    {
     "data": {
      "text/plain": [
       "array([[ 0.94909688],\n",
       "       [-0.71139681]])"
      ]
     },
     "execution_count": 12,
     "metadata": {},
     "output_type": "execute_result"
    }
   ],
   "source": [
    "# Création du vecteur theta\n",
    "def creer_theta(X):\n",
    "    return np.random.randn(X.shape[1],1)\n",
    "\n",
    "theta = creer_theta(X1)\n",
    "theta"
   ]
  },
  {
   "cell_type": "code",
   "execution_count": 13,
   "metadata": {},
   "outputs": [
    {
     "data": {
      "image/png": "[encoded data removed]",
      "text/plain": [
       "<Figure size 576x360 with 1 Axes>"
      ]
     },
     "metadata": {
      "needs_background": "light"
     },
     "output_type": "display_data"
    }
   ],
   "source": [
    "plt.figure(figsize=(8,5))\n",
    "plt.scatter(x1, y)\n",
    "plt.show()"
   ]
  },
  {
   "cell_type": "code",
   "execution_count": 14,
   "metadata": {},
   "outputs": [],
   "source": [
    "theta_final, historique_cout = gradient_descent(X1, y, theta, learning_rate=0.01, nb_iterations=2000)"
   ]
  },
  {
   "cell_type": "code",
   "execution_count": 15,
   "metadata": {},
   "outputs": [
    {
     "data": {
      "text/plain": [
       "array([[  60.15378033],\n",
       "       [-140.62263872]])"
      ]
     },
     "execution_count": 15,
     "metadata": {},
     "output_type": "execute_result"
    }
   ],
   "source": [
    "theta_final"
   ]
  },
  {
   "cell_type": "markdown",
   "metadata": {},
   "source": [
    "### Représentation du modèle de régression linéaire"
   ]
  },
  {
   "cell_type": "code",
   "execution_count": 16,
   "metadata": {},
   "outputs": [
    {
     "data": {
      "image/png": "[encoded data removed]",
      "text/plain": [
       "<Figure size 576x360 with 1 Axes>"
      ]
     },
     "metadata": {
      "needs_background": "light"
     },
     "output_type": "display_data"
    }
   ],
   "source": [
    "predictions = modele(X1, theta_final)\n",
    "\n",
    "plt.figure(figsize=(8,5))\n",
    "plt.scatter(x1, y)\n",
    "plt.plot(x1, predictions, c='r')\n",
    "plt.show()"
   ]
  },
  {
   "cell_type": "markdown",
   "metadata": {},
   "source": [
    "### Evolution de la fonction coût avec le nombre d'itérations"
   ]
  },
  {
   "cell_type": "code",
   "execution_count": 17,
   "metadata": {},
   "outputs": [
    {
     "data": {
      "text/plain": [
       "[<matplotlib.lines.Line2D at 0x7fe4ae605490>]"
      ]
     },
     "execution_count": 17,
     "metadata": {},
     "output_type": "execute_result"
    },
    {
     "data": {
      "image/png": "[encoded data removed]",
      "text/plain": [
       "<Figure size 432x288 with 1 Axes>"
      ]
     },
     "metadata": {
      "needs_background": "light"
     },
     "output_type": "display_data"
    }
   ],
   "source": [
    "plt.plot(range(2000), historique_cout)"
   ]
  },
  {
   "cell_type": "markdown",
   "metadata": {},
   "source": [
    "### Evaluation de la performance du modèle par le coefficient de détermination"
   ]
  },
  {
   "cell_type": "code",
   "execution_count": 18,
   "metadata": {},
   "outputs": [],
   "source": [
    "def coef_det(y, prediction):\n",
    "    numerateur = ((y - prediction)**2).sum()\n",
    "    denominateur = ((y - y.mean())**2).sum()\n",
    "    return 1 - (numerateur/denominateur)"
   ]
  },
  {
   "cell_type": "code",
   "execution_count": 19,
   "metadata": {},
   "outputs": [
    {
     "data": {
      "text/plain": [
       "0.524655591596955"
      ]
     },
     "execution_count": 19,
     "metadata": {},
     "output_type": "execute_result"
    }
   ],
   "source": [
    "# Coefficient de détermination de notre modèle de régression linéaire\n",
    "coef_det(y, predictions)"
   ]
  },
  {
   "cell_type": "markdown",
   "metadata": {},
   "source": [
    "## Regression linéaire avec toutes les features"
   ]
  },
  {
   "cell_type": "code",
   "execution_count": 153,
   "metadata": {},
   "outputs": [
    {
     "data": {
      "text/plain": [
       "(159, 4)"
      ]
     },
     "execution_count": 153,
     "metadata": {},
     "output_type": "execute_result"
    }
   ],
   "source": [
    "x11 = dataset[:, 1:5].copy() # Height\n",
    "x11.shape"
   ]
  },
  {
   "cell_type": "code",
   "execution_count": 154,
   "metadata": {},
   "outputs": [],
   "source": [
    "X11 = np.hstack((x11, np.ones((x11.shape[0],1))))"
   ]
  },
  {
   "cell_type": "code",
   "execution_count": 155,
   "metadata": {},
   "outputs": [
    {
     "data": {
      "text/plain": [
       "array([[-0.03602134],\n",
       "       [ 0.32982572],\n",
       "       [-1.512721  ],\n",
       "       [-0.59767008],\n",
       "       [ 0.0226726 ]])"
      ]
     },
     "execution_count": 155,
     "metadata": {},
     "output_type": "execute_result"
    }
   ],
   "source": [
    "theta11 = creer_theta(X11)\n",
    "theta11"
   ]
  },
  {
   "cell_type": "code",
   "execution_count": 156,
   "metadata": {},
   "outputs": [],
   "source": [
    "theta_final11, historique_cout11 = gradient_descent(X11, y, theta11, learning_rate=0.000001, nb_iterations=20000)"
   ]
  },
  {
   "cell_type": "code",
   "execution_count": 157,
   "metadata": {},
   "outputs": [
    {
     "data": {
      "text/plain": [
       "array([[ 5.16934182],\n",
       "       [ 5.79991006],\n",
       "       [ 4.31777621],\n",
       "       [ 2.60757574],\n",
       "       [-0.99216431]])"
      ]
     },
     "execution_count": 157,
     "metadata": {},
     "output_type": "execute_result"
    }
   ],
   "source": [
    "theta_final11"
   ]
  },
  {
   "cell_type": "markdown",
   "metadata": {},
   "source": [
    "### Représentation de la regression pour toutes les features"
   ]
  },
  {
   "cell_type": "code",
   "execution_count": 166,
   "metadata": {},
   "outputs": [
    {
     "data": {
      "image/png": "[encoded data removed]",
      "text/plain": [
       "<Figure size 576x360 with 1 Axes>"
      ]
     },
     "metadata": {
      "needs_background": "light"
     },
     "output_type": "display_data"
    }
   ],
   "source": [
    "predictions_11 = modele(X11, theta_final11)\n",
    "\n",
    "plt.figure(figsize=(8,5))\n",
    "plt.scatter(x11[:, 2].reshape(x11[:, 2].shape[0],1), y)\n",
    "plt.scatter(x11[:, 2].reshape(x11[:, 2].shape[0],1), predictions_11, c='r')\n",
    "plt.show()"
   ]
  },
  {
   "cell_type": "code",
   "execution_count": 168,
   "metadata": {},
   "outputs": [
    {
     "data": {
      "text/plain": [
       "0.6305583802012313"
      ]
     },
     "execution_count": 168,
     "metadata": {},
     "output_type": "execute_result"
    }
   ],
   "source": [
    "# Coefficient de détermination de notre modèle de régression linéaire\n",
    "coef_det(y, predictions_11)"
   ]
  },
  {
   "cell_type": "markdown",
   "metadata": {},
   "source": [
    "### Régression polynômiale"
   ]
  },
  {
   "cell_type": "code",
   "execution_count": 96,
   "metadata": {},
   "outputs": [],
   "source": [
    "# L'équation de régression devra être sous la forme ax² + bx + c\n",
    "# Pour cela il nous faut réécrire la matrice des features\n",
    "X2 = np.hstack((x1**2, X1))"
   ]
  },
  {
   "cell_type": "code",
   "execution_count": 102,
   "metadata": {},
   "outputs": [],
   "source": [
    "theta_2 = creer_theta(X2)\n",
    "theta_final_2, historique_cout_2 = gradient_descent(X2, y, theta_2, learning_rate=0.0000001, nb_iterations=50000)"
   ]
  },
  {
   "cell_type": "code",
   "execution_count": 103,
   "metadata": {},
   "outputs": [
    {
     "data": {
      "text/plain": [
       "array([[3.37094953],\n",
       "       [1.84017846],\n",
       "       [0.55641349]])"
      ]
     },
     "execution_count": 103,
     "metadata": {},
     "output_type": "execute_result"
    }
   ],
   "source": [
    "theta_final_2"
   ]
  },
  {
   "cell_type": "code",
   "execution_count": 104,
   "metadata": {},
   "outputs": [
    {
     "data": {
      "image/png": "[encoded data removed]",
      "text/plain": [
       "<Figure size 576x360 with 1 Axes>"
      ]
     },
     "metadata": {
      "needs_background": "light"
     },
     "output_type": "display_data"
    }
   ],
   "source": [
    "predictions_2 = modele(X2, theta_final_2)\n",
    "\n",
    "plt.figure(figsize=(8,5))\n",
    "plt.scatter(x1, y)\n",
    "plt.scatter(x1, predictions_2, c='r')\n",
    "plt.show()"
   ]
  },
  {
   "cell_type": "markdown",
   "metadata": {},
   "source": [
    "### Evolution du coût"
   ]
  },
  {
   "cell_type": "code",
   "execution_count": 107,
   "metadata": {},
   "outputs": [
    {
     "data": {
      "image/png": "[encoded data removed]",
      "text/plain": [
       "<Figure size 432x288 with 1 Axes>"
      ]
     },
     "metadata": {
      "needs_background": "light"
     },
     "output_type": "display_data"
    }
   ],
   "source": [
    "plt.plot(range(50000), historique_cout_2)\n",
    "plt.show()"
   ]
  },
  {
   "cell_type": "code",
   "execution_count": 106,
   "metadata": {},
   "outputs": [
    {
     "data": {
      "text/plain": [
       "0.42204354722273063"
      ]
     },
     "execution_count": 106,
     "metadata": {},
     "output_type": "execute_result"
    }
   ],
   "source": [
    "# Coefficient de détermination de notre modèle de régression linéaire\n",
    "predictions_2 = modele(X2, theta_final_2)\n",
    "coef_det(y, predictions_2)"
   ]
  },
  {
   "cell_type": "code",
   "execution_count": null,
   "metadata": {},
   "outputs": [],
   "source": []
  },
  {
   "cell_type": "code",
   "execution_count": null,
   "metadata": {},
   "outputs": [],
   "source": []
  }
 ],
 "metadata": {
  "kernelspec": {
   "display_name": "Python 3",
   "language": "python",
   "name": "python3"
  },
  "language_info": {
   "codemirror_mode": {
    "name": "ipython",
    "version": 3
   },
   "file_extension": ".py",
   "mimetype": "text/x-python",
   "name": "python",
   "nbconvert_exporter": "python",
   "pygments_lexer": "ipython3",
   "version": "3.7.6"
  }
 },
 "nbformat": 4,
 "nbformat_minor": 4
}
