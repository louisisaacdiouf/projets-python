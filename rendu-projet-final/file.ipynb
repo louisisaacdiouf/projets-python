{
 "cells": [
  {
   "cell_type": "code",
   "execution_count": 180,
   "metadata": {},
   "outputs": [],
   "source": [
    "import networkx as nx\n",
    "import matplotlib.pyplot as plt\n",
    "import pandas as pd\n",
    "import numpy as np\n",
    "%matplotlib inline"
   ]
  },
  {
   "cell_type": "markdown",
   "metadata": {},
   "source": [
    "# Exercice sur la création des noeuds"
   ]
  },
  {
   "cell_type": "code",
   "execution_count": 181,
   "metadata": {},
   "outputs": [],
   "source": [
    "G = nx.Graph()\n",
    "G.add_edges_from([(0,1),(1,2),(2,3),(1,3),(2,5),(3,6),(0,6),(6,5),(5,0),(3,4)])"
   ]
  },
  {
   "cell_type": "code",
   "execution_count": 182,
   "metadata": {},
   "outputs": [
    {
     "data": {
      "image/png": "[encoded data removed]",
      "text/plain": [
       "<Figure size 432x288 with 1 Axes>"
      ]
     },
     "metadata": {
      "needs_background": "light"
     },
     "output_type": "display_data"
    }
   ],
   "source": [
    "plt.figure()\n",
    "nx.draw_networkx(G)"
   ]
  },
  {
   "cell_type": "code",
   "execution_count": 183,
   "metadata": {},
   "outputs": [
    {
     "data": {
      "text/html": [
       "<div>\n",
       "<style scoped>\n",
       "    .dataframe tbody tr th:only-of-type {\n",
       "        vertical-align: middle;\n",
       "    }\n",
       "\n",
       "    .dataframe tbody tr th {\n",
       "        vertical-align: top;\n",
       "    }\n",
       "\n",
       "    .dataframe thead th {\n",
       "        text-align: right;\n",
       "    }\n",
       "</style>\n",
       "<table border=\"1\" class=\"dataframe\">\n",
       "  <thead>\n",
       "    <tr style=\"text-align: right;\">\n",
       "      <th></th>\n",
       "      <th>id</th>\n",
       "      <th>latitude</th>\n",
       "      <th>longitude</th>\n",
       "      <th>population</th>\n",
       "    </tr>\n",
       "  </thead>\n",
       "  <tbody>\n",
       "    <tr>\n",
       "      <th>0</th>\n",
       "      <td>Amsterdam</td>\n",
       "      <td>52.379189</td>\n",
       "      <td>4.899431</td>\n",
       "      <td>821752</td>\n",
       "    </tr>\n",
       "    <tr>\n",
       "      <th>1</th>\n",
       "      <td>Utrecht</td>\n",
       "      <td>52.092876</td>\n",
       "      <td>5.104480</td>\n",
       "      <td>334176</td>\n",
       "    </tr>\n",
       "    <tr>\n",
       "      <th>2</th>\n",
       "      <td>Den Haag</td>\n",
       "      <td>52.078663</td>\n",
       "      <td>4.288788</td>\n",
       "      <td>514861</td>\n",
       "    </tr>\n",
       "    <tr>\n",
       "      <th>3</th>\n",
       "      <td>Immingham</td>\n",
       "      <td>53.612390</td>\n",
       "      <td>-0.222190</td>\n",
       "      <td>9642</td>\n",
       "    </tr>\n",
       "    <tr>\n",
       "      <th>4</th>\n",
       "      <td>Doncaster</td>\n",
       "      <td>53.522850</td>\n",
       "      <td>-1.131160</td>\n",
       "      <td>302400</td>\n",
       "    </tr>\n",
       "    <tr>\n",
       "      <th>5</th>\n",
       "      <td>Hoek van Holland</td>\n",
       "      <td>51.977500</td>\n",
       "      <td>4.133330</td>\n",
       "      <td>9382</td>\n",
       "    </tr>\n",
       "    <tr>\n",
       "      <th>6</th>\n",
       "      <td>Felixstowe</td>\n",
       "      <td>51.963750</td>\n",
       "      <td>1.351100</td>\n",
       "      <td>23689</td>\n",
       "    </tr>\n",
       "    <tr>\n",
       "      <th>7</th>\n",
       "      <td>Ipswich</td>\n",
       "      <td>52.059170</td>\n",
       "      <td>1.155450</td>\n",
       "      <td>133384</td>\n",
       "    </tr>\n",
       "    <tr>\n",
       "      <th>8</th>\n",
       "      <td>Colchester</td>\n",
       "      <td>51.889210</td>\n",
       "      <td>0.904210</td>\n",
       "      <td>104390</td>\n",
       "    </tr>\n",
       "    <tr>\n",
       "      <th>9</th>\n",
       "      <td>London</td>\n",
       "      <td>51.509865</td>\n",
       "      <td>-0.118092</td>\n",
       "      <td>8787892</td>\n",
       "    </tr>\n",
       "    <tr>\n",
       "      <th>10</th>\n",
       "      <td>Rotterdam</td>\n",
       "      <td>51.922500</td>\n",
       "      <td>4.479170</td>\n",
       "      <td>623652</td>\n",
       "    </tr>\n",
       "    <tr>\n",
       "      <th>11</th>\n",
       "      <td>Gouda</td>\n",
       "      <td>52.016670</td>\n",
       "      <td>4.708330</td>\n",
       "      <td>70939</td>\n",
       "    </tr>\n",
       "  </tbody>\n",
       "</table>\n",
       "</div>"
      ],
      "text/plain": [
       "                  id   latitude  longitude  population\n",
       "0          Amsterdam  52.379189   4.899431      821752\n",
       "1            Utrecht  52.092876   5.104480      334176\n",
       "2           Den Haag  52.078663   4.288788      514861\n",
       "3          Immingham  53.612390  -0.222190        9642\n",
       "4          Doncaster  53.522850  -1.131160      302400\n",
       "5   Hoek van Holland  51.977500   4.133330        9382\n",
       "6         Felixstowe  51.963750   1.351100       23689\n",
       "7            Ipswich  52.059170   1.155450      133384\n",
       "8         Colchester  51.889210   0.904210      104390\n",
       "9             London  51.509865  -0.118092     8787892\n",
       "10         Rotterdam  51.922500   4.479170      623652\n",
       "11             Gouda  52.016670   4.708330       70939"
      ]
     },
     "execution_count": 183,
     "metadata": {},
     "output_type": "execute_result"
    }
   ],
   "source": [
    "trans_nodes = pd.read_csv('data/transport-nodes.csv')\n",
    "trans_nodes"
   ]
  },
  {
   "cell_type": "code",
   "execution_count": 184,
   "metadata": {},
   "outputs": [
    {
     "data": {
      "text/html": [
       "<div>\n",
       "<style scoped>\n",
       "    .dataframe tbody tr th:only-of-type {\n",
       "        vertical-align: middle;\n",
       "    }\n",
       "\n",
       "    .dataframe tbody tr th {\n",
       "        vertical-align: top;\n",
       "    }\n",
       "\n",
       "    .dataframe thead th {\n",
       "        text-align: right;\n",
       "    }\n",
       "</style>\n",
       "<table border=\"1\" class=\"dataframe\">\n",
       "  <thead>\n",
       "    <tr style=\"text-align: right;\">\n",
       "      <th></th>\n",
       "      <th>src</th>\n",
       "      <th>dst</th>\n",
       "      <th>relationship</th>\n",
       "      <th>cost</th>\n",
       "    </tr>\n",
       "  </thead>\n",
       "  <tbody>\n",
       "    <tr>\n",
       "      <th>0</th>\n",
       "      <td>Amsterdam</td>\n",
       "      <td>Utrecht</td>\n",
       "      <td>EROAD</td>\n",
       "      <td>46</td>\n",
       "    </tr>\n",
       "    <tr>\n",
       "      <th>1</th>\n",
       "      <td>Amsterdam</td>\n",
       "      <td>Den Haag</td>\n",
       "      <td>EROAD</td>\n",
       "      <td>59</td>\n",
       "    </tr>\n",
       "    <tr>\n",
       "      <th>2</th>\n",
       "      <td>Den Haag</td>\n",
       "      <td>Rotterdam</td>\n",
       "      <td>EROAD</td>\n",
       "      <td>26</td>\n",
       "    </tr>\n",
       "    <tr>\n",
       "      <th>3</th>\n",
       "      <td>Amsterdam</td>\n",
       "      <td>Immingham</td>\n",
       "      <td>EROAD</td>\n",
       "      <td>369</td>\n",
       "    </tr>\n",
       "    <tr>\n",
       "      <th>4</th>\n",
       "      <td>Immingham</td>\n",
       "      <td>Doncaster</td>\n",
       "      <td>EROAD</td>\n",
       "      <td>74</td>\n",
       "    </tr>\n",
       "    <tr>\n",
       "      <th>5</th>\n",
       "      <td>Doncaster</td>\n",
       "      <td>London</td>\n",
       "      <td>EROAD</td>\n",
       "      <td>277</td>\n",
       "    </tr>\n",
       "    <tr>\n",
       "      <th>6</th>\n",
       "      <td>Hoek van Holland</td>\n",
       "      <td>Den Haag</td>\n",
       "      <td>EROAD</td>\n",
       "      <td>27</td>\n",
       "    </tr>\n",
       "    <tr>\n",
       "      <th>7</th>\n",
       "      <td>Felixstowe</td>\n",
       "      <td>Hoek van Holland</td>\n",
       "      <td>EROAD</td>\n",
       "      <td>207</td>\n",
       "    </tr>\n",
       "    <tr>\n",
       "      <th>8</th>\n",
       "      <td>Ipswich</td>\n",
       "      <td>Felixstowe</td>\n",
       "      <td>EROAD</td>\n",
       "      <td>22</td>\n",
       "    </tr>\n",
       "    <tr>\n",
       "      <th>9</th>\n",
       "      <td>Colchester</td>\n",
       "      <td>Ipswich</td>\n",
       "      <td>EROAD</td>\n",
       "      <td>32</td>\n",
       "    </tr>\n",
       "    <tr>\n",
       "      <th>10</th>\n",
       "      <td>London</td>\n",
       "      <td>Colchester</td>\n",
       "      <td>EROAD</td>\n",
       "      <td>106</td>\n",
       "    </tr>\n",
       "    <tr>\n",
       "      <th>11</th>\n",
       "      <td>Gouda</td>\n",
       "      <td>Rotterdam</td>\n",
       "      <td>EROAD</td>\n",
       "      <td>25</td>\n",
       "    </tr>\n",
       "    <tr>\n",
       "      <th>12</th>\n",
       "      <td>Gouda</td>\n",
       "      <td>Utrecht</td>\n",
       "      <td>EROAD</td>\n",
       "      <td>35</td>\n",
       "    </tr>\n",
       "    <tr>\n",
       "      <th>13</th>\n",
       "      <td>Den Haag</td>\n",
       "      <td>Gouda</td>\n",
       "      <td>EROAD</td>\n",
       "      <td>32</td>\n",
       "    </tr>\n",
       "    <tr>\n",
       "      <th>14</th>\n",
       "      <td>Hoek van Holland</td>\n",
       "      <td>Rotterdam</td>\n",
       "      <td>EROAD</td>\n",
       "      <td>33</td>\n",
       "    </tr>\n",
       "  </tbody>\n",
       "</table>\n",
       "</div>"
      ],
      "text/plain": [
       "                 src               dst relationship  cost\n",
       "0          Amsterdam           Utrecht        EROAD    46\n",
       "1          Amsterdam          Den Haag        EROAD    59\n",
       "2           Den Haag         Rotterdam        EROAD    26\n",
       "3          Amsterdam         Immingham        EROAD   369\n",
       "4          Immingham         Doncaster        EROAD    74\n",
       "5          Doncaster            London        EROAD   277\n",
       "6   Hoek van Holland          Den Haag        EROAD    27\n",
       "7         Felixstowe  Hoek van Holland        EROAD   207\n",
       "8            Ipswich        Felixstowe        EROAD    22\n",
       "9         Colchester           Ipswich        EROAD    32\n",
       "10            London        Colchester        EROAD   106\n",
       "11             Gouda         Rotterdam        EROAD    25\n",
       "12             Gouda           Utrecht        EROAD    35\n",
       "13          Den Haag             Gouda        EROAD    32\n",
       "14  Hoek van Holland         Rotterdam        EROAD    33"
      ]
     },
     "execution_count": 184,
     "metadata": {},
     "output_type": "execute_result"
    }
   ],
   "source": [
    "trans_arcs = pd.read_csv('data/transport-relationships.csv')\n",
    "trans_arcs"
   ]
  },
  {
   "cell_type": "code",
   "execution_count": 185,
   "metadata": {},
   "outputs": [],
   "source": [
    "G1 = nx.from_pandas_edgelist(trans_arcs, 'src' ,'dst',['relationship','cost'])"
   ]
  },
  {
   "cell_type": "code",
   "execution_count": 186,
   "metadata": {},
   "outputs": [
    {
     "data": {
      "image/png": "[encoded data removed]",
      "text/plain": [
       "<Figure size 432x288 with 1 Axes>"
      ]
     },
     "metadata": {
      "needs_background": "light"
     },
     "output_type": "display_data"
    }
   ],
   "source": [
    "plt.figure()\n",
    "nx.draw_networkx(G1) # 'with_labels=False' comme deuxième entrée pour cacher les titres"
   ]
  },
  {
   "cell_type": "code",
   "execution_count": 187,
   "metadata": {},
   "outputs": [
    {
     "data": {
      "text/plain": [
       "{}"
      ]
     },
     "execution_count": 187,
     "metadata": {},
     "output_type": "execute_result"
    }
   ],
   "source": [
    "G1.node['Gouda']"
   ]
  },
  {
   "cell_type": "code",
   "execution_count": 188,
   "metadata": {},
   "outputs": [],
   "source": [
    "def ajouterAttribut(myGraphe,dfnoeuds, nomAttribut,nomIndex):\n",
    "    for i in range(dfnoeuds.count().id):\n",
    "        ville = dfnoeuds.id[i]\n",
    "        val_attr = dfnoeuds[dfnoeuds[nomIndex] == ville][nomAttribut]\n",
    "        myGraphe.add_node(ville, **{nomAttribut : val_attr[i]})   "
   ]
  },
  {
   "cell_type": "code",
   "execution_count": 189,
   "metadata": {},
   "outputs": [],
   "source": [
    "ajouterAttribut(G1,trans_nodes, 'latitude','id')\n",
    "ajouterAttribut(G1,trans_nodes, 'longitude','id')\n",
    "ajouterAttribut(G1,trans_nodes, 'population','id')"
   ]
  },
  {
   "cell_type": "code",
   "execution_count": 190,
   "metadata": {},
   "outputs": [
    {
     "data": {
      "text/plain": [
       "[('Gouda', {'latitude': 52.01667, 'longitude': 4.70833, 'population': 70939}),\n",
       " ('Immingham',\n",
       "  {'latitude': 53.612390000000005, 'longitude': -0.22219, 'population': 9642}),\n",
       " ('Felixstowe',\n",
       "  {'latitude': 51.96375, 'longitude': 1.3511, 'population': 23689}),\n",
       " ('Hoek van Holland',\n",
       "  {'latitude': 51.9775, 'longitude': 4.13333, 'population': 9382}),\n",
       " ('London',\n",
       "  {'latitude': 51.509865000000005,\n",
       "   'longitude': -0.118092,\n",
       "   'population': 8787892}),\n",
       " ('Utrecht',\n",
       "  {'latitude': 52.092876000000004,\n",
       "   'longitude': 5.104480000000001,\n",
       "   'population': 334176}),\n",
       " ('Ipswich',\n",
       "  {'latitude': 52.05917, 'longitude': 1.15545, 'population': 133384}),\n",
       " ('Amsterdam',\n",
       "  {'latitude': 52.379189000000004,\n",
       "   'longitude': 4.899431,\n",
       "   'population': 821752}),\n",
       " ('Doncaster',\n",
       "  {'latitude': 53.52285, 'longitude': -1.13116, 'population': 302400}),\n",
       " ('Rotterdam',\n",
       "  {'latitude': 51.9225, 'longitude': 4.47917, 'population': 623652}),\n",
       " ('Colchester',\n",
       "  {'latitude': 51.88921,\n",
       "   'longitude': 0.9042100000000001,\n",
       "   'population': 104390}),\n",
       " ('Den Haag',\n",
       "  {'latitude': 52.078663,\n",
       "   'longitude': 4.288787999999999,\n",
       "   'population': 514861})]"
      ]
     },
     "execution_count": 190,
     "metadata": {},
     "output_type": "execute_result"
    }
   ],
   "source": [
    "G1.node.items()"
   ]
  },
  {
   "cell_type": "code",
   "execution_count": 191,
   "metadata": {},
   "outputs": [
    {
     "data": {
      "text/plain": [
       "[(('Gouda', 'Rotterdam'), {'cost': 25L, 'relationship': 'EROAD'}),\n",
       " (('Gouda', 'Utrecht'), {'cost': 35L, 'relationship': 'EROAD'}),\n",
       " (('Gouda', 'Den Haag'), {'cost': 32L, 'relationship': 'EROAD'}),\n",
       " (('Immingham', 'Amsterdam'), {'cost': 369L, 'relationship': 'EROAD'}),\n",
       " (('Immingham', 'Doncaster'), {'cost': 74L, 'relationship': 'EROAD'}),\n",
       " (('Felixstowe', 'Ipswich'), {'cost': 22L, 'relationship': 'EROAD'}),\n",
       " (('Felixstowe', 'Hoek van Holland'), {'cost': 207L, 'relationship': 'EROAD'}),\n",
       " (('Hoek van Holland', 'Rotterdam'), {'cost': 33L, 'relationship': 'EROAD'}),\n",
       " (('Hoek van Holland', 'Den Haag'), {'cost': 27L, 'relationship': 'EROAD'}),\n",
       " (('London', 'Doncaster'), {'cost': 277L, 'relationship': 'EROAD'}),\n",
       " (('London', 'Colchester'), {'cost': 106L, 'relationship': 'EROAD'}),\n",
       " (('Utrecht', 'Amsterdam'), {'cost': 46L, 'relationship': 'EROAD'}),\n",
       " (('Ipswich', 'Colchester'), {'cost': 32L, 'relationship': 'EROAD'}),\n",
       " (('Amsterdam', 'Den Haag'), {'cost': 59L, 'relationship': 'EROAD'}),\n",
       " (('Rotterdam', 'Den Haag'), {'cost': 26L, 'relationship': 'EROAD'})]"
      ]
     },
     "execution_count": 191,
     "metadata": {},
     "output_type": "execute_result"
    }
   ],
   "source": [
    "G1.edges.items()"
   ]
  },
  {
   "cell_type": "markdown",
   "metadata": {},
   "source": [
    "\n",
    "\n",
    "# Affichage de la carte"
   ]
  },
  {
   "cell_type": "code",
   "execution_count": 192,
   "metadata": {},
   "outputs": [],
   "source": [
    "import folium\n",
    "'''\n",
    "On construit le Map avec une location par defaut\n",
    "'''\n",
    "basemap = folium.Map(\n",
    "    location=[52.3791890, 4.899431],\n",
    "    tiles='Stamen Toner',\n",
    "    zoom_start=12,\n",
    "    \n",
    ")\n"
   ]
  },
  {
   "cell_type": "code",
   "execution_count": 193,
   "metadata": {},
   "outputs": [
    {
     "data": {
      "text/html": [
       "<div style=\"width:100%;\"><div style=\"position:relative;width:100%;height:0;padding-bottom:60%;\"><iframe src=\"data:text/html;charset=utf-8;base64,PCFET0NUWVBFIGh0bWw+CjxoZWFkPiAgICAKICAgIDxtZXRhIGh0dHAtZXF1aXY9ImNvbnRlbnQtdHlwZSIgY29udGVudD0idGV4dC9odG1sOyBjaGFyc2V0PVVURi04IiAvPgogICAgPHNjcmlwdD5MX1BSRUZFUl9DQU5WQVM9ZmFsc2U7IExfTk9fVE9VQ0g9ZmFsc2U7IExfRElTQUJMRV8zRD1mYWxzZTs8L3NjcmlwdD4KICAgIDxzY3JpcHQgc3JjPSJodHRwczovL2Nkbi5qc2RlbGl2ci5uZXQvbnBtL2xlYWZsZXRAMS4yLjAvZGlzdC9sZWFmbGV0LmpzIj48L3NjcmlwdD4KICAgIDxzY3JpcHQgc3JjPSJodHRwczovL2FqYXguZ29vZ2xlYXBpcy5jb20vYWpheC9saWJzL2pxdWVyeS8xLjExLjEvanF1ZXJ5Lm1pbi5qcyI+PC9zY3JpcHQ+CiAgICA8c2NyaXB0IHNyYz0iaHR0cHM6Ly9tYXhjZG4uYm9vdHN0cmFwY2RuLmNvbS9ib290c3RyYXAvMy4yLjAvanMvYm9vdHN0cmFwLm1pbi5qcyI+PC9zY3JpcHQ+CiAgICA8c2NyaXB0IHNyYz0iaHR0cHM6Ly9jZG5qcy5jbG91ZGZsYXJlLmNvbS9hamF4L2xpYnMvTGVhZmxldC5hd2Vzb21lLW1hcmtlcnMvMi4wLjIvbGVhZmxldC5hd2Vzb21lLW1hcmtlcnMuanMiPjwvc2NyaXB0PgogICAgPGxpbmsgcmVsPSJzdHlsZXNoZWV0IiBocmVmPSJodHRwczovL2Nkbi5qc2RlbGl2ci5uZXQvbnBtL2xlYWZsZXRAMS4yLjAvZGlzdC9sZWFmbGV0LmNzcyIvPgogICAgPGxpbmsgcmVsPSJzdHlsZXNoZWV0IiBocmVmPSJodHRwczovL21heGNkbi5ib290c3RyYXBjZG4uY29tL2Jvb3RzdHJhcC8zLjIuMC9jc3MvYm9vdHN0cmFwLm1pbi5jc3MiLz4KICAgIDxsaW5rIHJlbD0ic3R5bGVzaGVldCIgaHJlZj0iaHR0cHM6Ly9tYXhjZG4uYm9vdHN0cmFwY2RuLmNvbS9ib290c3RyYXAvMy4yLjAvY3NzL2Jvb3RzdHJhcC10aGVtZS5taW4uY3NzIi8+CiAgICA8bGluayByZWw9InN0eWxlc2hlZXQiIGhyZWY9Imh0dHBzOi8vbWF4Y2RuLmJvb3RzdHJhcGNkbi5jb20vZm9udC1hd2Vzb21lLzQuNi4zL2Nzcy9mb250LWF3ZXNvbWUubWluLmNzcyIvPgogICAgPGxpbmsgcmVsPSJzdHlsZXNoZWV0IiBocmVmPSJodHRwczovL2NkbmpzLmNsb3VkZmxhcmUuY29tL2FqYXgvbGlicy9MZWFmbGV0LmF3ZXNvbWUtbWFya2Vycy8yLjAuMi9sZWFmbGV0LmF3ZXNvbWUtbWFya2Vycy5jc3MiLz4KICAgIDxsaW5rIHJlbD0ic3R5bGVzaGVldCIgaHJlZj0iaHR0cHM6Ly9yYXdnaXQuY29tL3B5dGhvbi12aXN1YWxpemF0aW9uL2ZvbGl1bS9tYXN0ZXIvZm9saXVtL3RlbXBsYXRlcy9sZWFmbGV0LmF3ZXNvbWUucm90YXRlLmNzcyIvPgogICAgPHN0eWxlPmh0bWwsIGJvZHkge3dpZHRoOiAxMDAlO2hlaWdodDogMTAwJTttYXJnaW46IDA7cGFkZGluZzogMDt9PC9zdHlsZT4KICAgIDxzdHlsZT4jbWFwIHtwb3NpdGlvbjphYnNvbHV0ZTt0b3A6MDtib3R0b206MDtyaWdodDowO2xlZnQ6MDt9PC9zdHlsZT4KICAgIAogICAgPHN0eWxlPiNtYXBfMzg4MTkxN2Y5NmRlNDIyMDkzZWFlM2QyYWQyMzc1MTQgewogICAgICAgIHBvc2l0aW9uOiByZWxhdGl2ZTsKICAgICAgICB3aWR0aDogMTAwLjAlOwogICAgICAgIGhlaWdodDogMTAwLjAlOwogICAgICAgIGxlZnQ6IDAuMCU7CiAgICAgICAgdG9wOiAwLjAlOwogICAgICAgIH0KICAgIDwvc3R5bGU+CjwvaGVhZD4KPGJvZHk+ICAgIAogICAgCiAgICA8ZGl2IGNsYXNzPSJmb2xpdW0tbWFwIiBpZD0ibWFwXzM4ODE5MTdmOTZkZTQyMjA5M2VhZTNkMmFkMjM3NTE0IiA+PC9kaXY+CjwvYm9keT4KPHNjcmlwdD4gICAgCiAgICAKICAgIAogICAgICAgIHZhciBib3VuZHMgPSBudWxsOwogICAgCgogICAgdmFyIG1hcF8zODgxOTE3Zjk2ZGU0MjIwOTNlYWUzZDJhZDIzNzUxNCA9IEwubWFwKAogICAgICAgICdtYXBfMzg4MTkxN2Y5NmRlNDIyMDkzZWFlM2QyYWQyMzc1MTQnLCB7CiAgICAgICAgY2VudGVyOiBbNTIuMzc5MTg5LCA0Ljg5OTQzMV0sCiAgICAgICAgem9vbTogMTIsCiAgICAgICAgbWF4Qm91bmRzOiBib3VuZHMsCiAgICAgICAgbGF5ZXJzOiBbXSwKICAgICAgICB3b3JsZENvcHlKdW1wOiBmYWxzZSwKICAgICAgICBjcnM6IEwuQ1JTLkVQU0czODU3LAogICAgICAgIHpvb21Db250cm9sOiB0cnVlLAogICAgICAgIH0pOwoKICAgIAogICAgCiAgICB2YXIgdGlsZV9sYXllcl84YTYzZDA4YmY4YWE0NTcyODFiMzU5MmVlM2NlMTlhMSA9IEwudGlsZUxheWVyKAogICAgICAgICdodHRwczovL3N0YW1lbi10aWxlcy17c30uYS5zc2wuZmFzdGx5Lm5ldC90b25lci97en0ve3h9L3t5fS5wbmcnLAogICAgICAgIHsKICAgICAgICAiYXR0cmlidXRpb24iOiBudWxsLCAKICAgICAgICAiZGV0ZWN0UmV0aW5hIjogZmFsc2UsIAogICAgICAgICJtYXhOYXRpdmVab29tIjogMTgsIAogICAgICAgICJtYXhab29tIjogMTgsIAogICAgICAgICJtaW5ab29tIjogMCwgCiAgICAgICAgIm5vV3JhcCI6IGZhbHNlLCAKICAgICAgICAic3ViZG9tYWlucyI6ICJhYmMiCn0pLmFkZFRvKG1hcF8zODgxOTE3Zjk2ZGU0MjIwOTNlYWUzZDJhZDIzNzUxNCk7Cjwvc2NyaXB0Pg==\" style=\"position:absolute;width:100%;height:100%;left:0;top:0;border:none !important;\" allowfullscreen webkitallowfullscreen mozallowfullscreen></iframe></div></div>"
      ],
      "text/plain": [
       "<folium.folium.Map at 0x9670cf8>"
      ]
     },
     "execution_count": 193,
     "metadata": {},
     "output_type": "execute_result"
    }
   ],
   "source": [
    "basemap"
   ]
  },
  {
   "cell_type": "code",
   "execution_count": 194,
   "metadata": {},
   "outputs": [
    {
     "data": {
      "text/plain": [
       "52.01667"
      ]
     },
     "execution_count": 194,
     "metadata": {},
     "output_type": "execute_result"
    }
   ],
   "source": [
    "G1.node.items()[0][1]['latitude']"
   ]
  },
  {
   "cell_type": "code",
   "execution_count": 195,
   "metadata": {},
   "outputs": [
    {
     "data": {
      "text/html": [
       "<div style=\"width:100%;\"><div style=\"position:relative;width:100%;height:0;padding-bottom:60%;\"><iframe src=\"data:text/html;charset=utf-8;base64,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\" style=\"position:absolute;width:100%;height:100%;left:0;top:0;border:none !important;\" allowfullscreen webkitallowfullscreen mozallowfullscreen></iframe></div></div>"
      ],
      "text/plain": [
       "<folium.folium.Map at 0x9670cf8>"
      ]
     },
     "execution_count": 195,
     "metadata": {},
     "output_type": "execute_result"
    }
   ],
   "source": [
    "for i in G1.node.items():\n",
    "    folium.Marker(\n",
    "        location=[i[1]['latitude'],i[1]['longitude']],\n",
    "        popup='Population '+str(i[1]['population']),\n",
    "    ).add_to(basemap)\n",
    "basemap.zoom_start = 6\n",
    "basemap"
   ]
  },
  {
   "cell_type": "code",
   "execution_count": 196,
   "metadata": {},
   "outputs": [],
   "source": [
    "def construirePointsImage(myGraphe):\n",
    "    points = []\n",
    "    for i in myGraphe.node.items():\n",
    "        for neighbor in list(myGraphe.neighbors(i[0])):\n",
    "            S = []\n",
    "            S.append([i[1][\"latitude\"],i[1][\"longitude\"]])\n",
    "            S.append([myGraphe.node[neighbor][\"latitude\"],myGraphe.node[neighbor][\"longitude\"]])\n",
    "            points.append(S)\n",
    "    return points"
   ]
  },
  {
   "cell_type": "code",
   "execution_count": 197,
   "metadata": {},
   "outputs": [
    {
     "data": {
      "text/plain": [
       "[[52.01667, 4.70833], [51.9225, 4.47917]]"
      ]
     },
     "execution_count": 197,
     "metadata": {},
     "output_type": "execute_result"
    }
   ],
   "source": [
    "coordonneesvoisins = construirePointsImage(G1)\n",
    "coordonneesvoisins[0]"
   ]
  },
  {
   "cell_type": "code",
   "execution_count": 198,
   "metadata": {},
   "outputs": [
    {
     "data": {
      "text/html": [
       "<div style=\"width:100%;\"><div style=\"position:relative;width:100%;height:0;padding-bottom:60%;\"><iframe src=\"data:text/html;charset=utf-8;base64,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\" style=\"position:absolute;width:100%;height:100%;left:0;top:0;border:none !important;\" allowfullscreen webkitallowfullscreen mozallowfullscreen></iframe></div></div>"
      ],
      "text/plain": [
       "<folium.folium.Map at 0x9670cf8>"
      ]
     },
     "execution_count": 198,
     "metadata": {},
     "output_type": "execute_result"
    }
   ],
   "source": [
    "folium.PolyLine(coordonneesvoisins, color=\"red\", weight=2.5, opacity=1).add_to(basemap)\n",
    "basemap"
   ]
  },
  {
   "cell_type": "code",
   "execution_count": 199,
   "metadata": {},
   "outputs": [
    {
     "data": {
      "text/plain": [
       "['Rotterdam', 'Utrecht', 'Den Haag']"
      ]
     },
     "execution_count": 199,
     "metadata": {},
     "output_type": "execute_result"
    }
   ],
   "source": [
    "class Noeud:\n",
    "    def __init__(self,name):\n",
    "        self.name = name\n",
    "        self.attributs = {}\n",
    "        self.listeNomVoisin = []\n",
    "        \n",
    "    def setAttribut(self,key, values):\n",
    "        self.attributs[key] = values\n",
    "        \n",
    "    def getAttribut(self,key):\n",
    "        return self.attributs[key]\n",
    "    \n",
    "    def getName(self):\n",
    "        return self.name\n",
    "    \n",
    "    def setVoisins(self, myGraphe):\n",
    "        try:\n",
    "            self.listeNomVoisin = list(myGraphe.neighbors(self.name))\n",
    "        except:\n",
    "            pass\n",
    "        \n",
    "    def getVoisins(self):\n",
    "        return self.listeNomVoisin\n",
    "    '''\n",
    "    Deux noeuds sont egaux s'ils ont même name\n",
    "    '''\n",
    "    def egal(self, noeud):\n",
    "        pass\n",
    "\n",
    "n = Noeud('Gouda')\n",
    "n.setVoisins(G1)\n",
    "n.getVoisins()"
   ]
  },
  {
   "cell_type": "code",
   "execution_count": 200,
   "metadata": {},
   "outputs": [],
   "source": [
    "import csv\n",
    "class Graphe:\n",
    "    '''\n",
    "    Les noeuds seront mis dans une liste\n",
    "    Les arcs forment un dictionnaire avec comme clé les noms des noeuds et comme valeurs une liste de noeud\n",
    "    '''\n",
    "    def __init__(self):\n",
    "        self.noeuds = []\n",
    "        self.arcs = {}\n",
    "    \n",
    "    \n",
    "    def creerNoeuds(self,fichiernoeuds):\n",
    "        with open(fichiernoeuds, 'r') as file:\n",
    "            nodes_file = csv.reader(file)\n",
    "            E = list(nodes_file)\n",
    "            del E[0]\n",
    "            self.noeuds = E\n",
    "#             return E\n",
    "        \n",
    "\n",
    "    def creerArc(self, fichierarcs):\n",
    "        with open(fichierarcs, 'r') as file:\n",
    "            arcs_file = csv.reader(file)\n",
    "            self.arcs = list(arcs_file)\n",
    "    \n",
    "    \n",
    "    \n",
    "    def getNoeud(self,name):\n",
    "        n = np.array(self.noeuds)\n",
    "        return n[np.where(n[:,0] == name)]\n",
    "    \n",
    "    \n",
    "    \n",
    "    def getVoisins(self,noeud):\n",
    "        D = self.arcs\n",
    "        D = np.delete(D, (2,3), 1)\n",
    "        D = np.delete(D, 0, 0)\n",
    "\n",
    "        voisins1 = [D[i,1] for i in range(D.shape[0]) if D[i,0]==noeud]\n",
    "        voisins2 = [D[i,0] for i in range(D.shape[0]) if D[i,1]==noeud]\n",
    "        voisins = voisins1 + voisins2\n",
    "        return voisins\n",
    "    \n",
    "    \n",
    "    \n",
    "    def getCoordonnesVoisins(self, noeud):\n",
    "        voisins = self.getVoisins(noeud)\n",
    "        listecoord = tuple((self.getNoeud(voisin) for voisin in voisins))\n",
    "        listecoord = np.concatenate(listecoord, axis=0)\n",
    "        listecoord = np.delete(listecoord, (0,3), 1)\n",
    "        listecoord = listecoord.tolist()\n",
    "        listecoord = [[float(i) for i in x] for x in listecoord]\n",
    "        return listecoord\n",
    "        \n",
    "    \n",
    "    '''\n",
    "    Recuperer les coordonnees d'une liste de neouds pour visualiser sous folium\n",
    "    Prend en entrée une liste de nom de noeud\n",
    "    Retourne une liste de sous-listes à deux elements de coordonnées\n",
    "    '''\n",
    "    def getListeCoordonnees(self,listeNoeuds):\n",
    "        coord = tuple((np.delete(self.getNoeud(name), (0,3), 1) for name in listeNoeuds))\n",
    "        coord = np.concatenate(coord, axis=0)\n",
    "        coord = coord.tolist()\n",
    "        coord = [[float(i) for i in x] for x in coord]\n",
    "        return coord\n",
    "    \n",
    "    '''\n",
    "    Visualiser les noeuds et les arcs sous folium\n",
    "    Entree: le parametre explored sera utilisé pour les parcours de graphe\n",
    "    '''\n",
    "    \n",
    "    def visualiserFolium(self, locationpardefaut = [52.3791890, 4.899431],tiles='Stamen Toner',explored = None ):\n",
    "    \n",
    "        basemap = folium.Map(location= locationpardefaut,zoom_start=6,tiles=tiles)\n",
    "        \n",
    "        for i in self.noeuds:\n",
    "            folium.Marker(\n",
    "                location=[float(i[1]),float(i[2])],\n",
    "                popup='Population '+str(i[3]),\n",
    "            ).add_to(basemap)\n",
    "            \n",
    "            locations = self.getCoordonnesVoisins(i[0])\n",
    "            if len(locations)!= 0:\n",
    "                folium.PolyLine(locations, color=\"red\", weight=2.5, opacity=1).add_to(basemap)\n",
    "        if explored != None:\n",
    "            folium.PolyLine(self.getListeCoordonnees(explored), color=\"green\", weight=2.5, opacity=1).add_to(basemap)\n",
    "        return basemap"
   ]
  },
  {
   "cell_type": "code",
   "execution_count": 201,
   "metadata": {},
   "outputs": [],
   "source": [
    "G2 = Graphe()\n",
    "G2.creerNoeuds('data/transport-nodes.csv')\n",
    "G2.creerArc('data/transport-relationships.csv')"
   ]
  },
  {
   "cell_type": "code",
   "execution_count": 202,
   "metadata": {},
   "outputs": [
    {
     "data": {
      "text/plain": [
       "array([['Amsterdam', '52.379189', '4.899431', '821752']], dtype='|S16')"
      ]
     },
     "execution_count": 202,
     "metadata": {},
     "output_type": "execute_result"
    }
   ],
   "source": [
    "G2.getNoeud('Amsterdam')"
   ]
  },
  {
   "cell_type": "code",
   "execution_count": 203,
   "metadata": {},
   "outputs": [
    {
     "data": {
      "text/plain": [
       "['Utrecht', 'Den Haag', 'Immingham']"
      ]
     },
     "execution_count": 203,
     "metadata": {},
     "output_type": "execute_result"
    }
   ],
   "source": [
    "G2.getVoisins('Amsterdam')"
   ]
  },
  {
   "cell_type": "code",
   "execution_count": 204,
   "metadata": {
    "scrolled": false
   },
   "outputs": [
    {
     "data": {
      "text/plain": [
       "[[52.092876, 5.10448], [52.078663, 4.288788], [53.61239, -0.22219]]"
      ]
     },
     "execution_count": 204,
     "metadata": {},
     "output_type": "execute_result"
    }
   ],
   "source": [
    "G2.getCoordonnesVoisins('Amsterdam')"
   ]
  },
  {
   "cell_type": "code",
   "execution_count": 205,
   "metadata": {},
   "outputs": [
    {
     "data": {
      "text/plain": [
       "[[52.379189, 4.899431], [51.509865, -0.118092]]"
      ]
     },
     "execution_count": 205,
     "metadata": {},
     "output_type": "execute_result"
    }
   ],
   "source": [
    "G2.getListeCoordonnees(['Amsterdam','London'])"
   ]
  },
  {
   "cell_type": "code",
   "execution_count": 206,
   "metadata": {},
   "outputs": [],
   "source": [
    "G2.creerNoeuds('data/transport-nodes.csv')"
   ]
  },
  {
   "cell_type": "code",
   "execution_count": 207,
   "metadata": {},
   "outputs": [
    {
     "data": {
      "text/html": [
       "<div style=\"width:100%;\"><div style=\"position:relative;width:100%;height:0;padding-bottom:60%;\"><iframe src=\"data:text/html;charset=utf-8;base64,PCFET0NUWVBFIGh0bWw+CjxoZWFkPiAgICAKICAgIDxtZXRhIGh0dHAtZXF1aXY9ImNvbnRlbnQtdHlwZSIgY29udGVudD0idGV4dC9odG1sOyBjaGFyc2V0PVVURi04IiAvPgogICAgPHNjcmlwdD5MX1BSRUZFUl9DQU5WQVM9ZmFsc2U7IExfTk9fVE9VQ0g9ZmFsc2U7IExfRElTQUJMRV8zRD1mYWxzZTs8L3NjcmlwdD4KICAgIDxzY3JpcHQgc3JjPSJodHRwczovL2Nkbi5qc2RlbGl2ci5uZXQvbnBtL2xlYWZsZXRAMS4yLjAvZGlzdC9sZWFmbGV0LmpzIj48L3NjcmlwdD4KICAgIDxzY3JpcHQgc3JjPSJodHRwczovL2FqYXguZ29vZ2xlYXBpcy5jb20vYWpheC9saWJzL2pxdWVyeS8xLjExLjEvanF1ZXJ5Lm1pbi5qcyI+PC9zY3JpcHQ+CiAgICA8c2NyaXB0IHNyYz0iaHR0cHM6Ly9tYXhjZG4uYm9vdHN0cmFwY2RuLmNvbS9ib290c3RyYXAvMy4yLjAvanMvYm9vdHN0cmFwLm1pbi5qcyI+PC9zY3JpcHQ+CiAgICA8c2NyaXB0IHNyYz0iaHR0cHM6Ly9jZG5qcy5jbG91ZGZsYXJlLmNvbS9hamF4L2xpYnMvTGVhZmxldC5hd2Vzb21lLW1hcmtlcnMvMi4wLjIvbGVhZmxldC5hd2Vzb21lLW1hcmtlcnMuanMiPjwvc2NyaXB0PgogICAgPGxpbmsgcmVsPSJzdHlsZXNoZWV0IiBocmVmPSJodHRwczovL2Nkbi5qc2RlbGl2ci5uZXQvbnBtL2xlYWZsZXRAMS4yLjAvZGlzdC9sZWFmbGV0LmNzcyIvPgogICAgPGxpbmsgcmVsPSJzdHlsZXNoZWV0IiBocmVmPSJodHRwczovL21heGNkbi5ib290c3RyYXBjZG4uY29tL2Jvb3RzdHJhcC8zLjIuMC9jc3MvYm9vdHN0cmFwLm1pbi5jc3MiLz4KICAgIDxsaW5rIHJlbD0ic3R5bGVzaGVldCIgaHJlZj0iaHR0cHM6Ly9tYXhjZG4uYm9vdHN0cmFwY2RuLmNvbS9ib290c3RyYXAvMy4yLjAvY3NzL2Jvb3RzdHJhcC10aGVtZS5taW4uY3NzIi8+CiAgICA8bGluayByZWw9InN0eWxlc2hlZXQiIGhyZWY9Imh0dHBzOi8vbWF4Y2RuLmJvb3RzdHJhcGNkbi5jb20vZm9udC1hd2Vzb21lLzQuNi4zL2Nzcy9mb250LWF3ZXNvbWUubWluLmNzcyIvPgogICAgPGxpbmsgcmVsPSJzdHlsZXNoZWV0IiBocmVmPSJodHRwczovL2NkbmpzLmNsb3VkZmxhcmUuY29tL2FqYXgvbGlicy9MZWFmbGV0LmF3ZXNvbWUtbWFya2Vycy8yLjAuMi9sZWFmbGV0LmF3ZXNvbWUtbWFya2Vycy5jc3MiLz4KICAgIDxsaW5rIHJlbD0ic3R5bGVzaGVldCIgaHJlZj0iaHR0cHM6Ly9yYXdnaXQuY29tL3B5dGhvbi12aXN1YWxpemF0aW9uL2ZvbGl1bS9tYXN0ZXIvZm9saXVtL3RlbXBsYXRlcy9sZWFmbGV0LmF3ZXNvbWUucm90YXRlLmNzcyIvPgogICAgPHN0eWxlPmh0bWwsIGJvZHkge3dpZHRoOiAxMDAlO2hlaWdodDogMTAwJTttYXJnaW46IDA7cGFkZGluZzogMDt9PC9zdHlsZT4KICAgIDxzdHlsZT4jbWFwIHtwb3NpdGlvbjphYnNvbHV0ZTt0b3A6MDtib3R0b206MDtyaWdodDowO2xlZnQ6MDt9PC9zdHlsZT4KICAgIAogICAgPHN0eWxlPiNtYXBfZjdiMDI5NzJkYWUzNDM5Yjk0MTYzNzJlZDFjMWY5ODcgewogICAgICAgIHBvc2l0aW9uOiByZWxhdGl2ZTsKICAgICAgICB3aWR0aDogMTAwLjAlOwogICAgICAgIGhlaWdodDogMTAwLjAlOwogICAgICAgIGxlZnQ6IDAuMCU7CiAgICAgICAgdG9wOiAwLjAlOwogICAgICAgIH0KICAgIDwvc3R5bGU+CjwvaGVhZD4KPGJvZHk+ICAgIAogICAgCiAgICA8ZGl2IGNsYXNzPSJmb2xpdW0tbWFwIiBpZD0ibWFwX2Y3YjAyOTcyZGFlMzQzOWI5NDE2MzcyZWQxYzFmOTg3IiA+PC9kaXY+CjwvYm9keT4KPHNjcmlwdD4gICAgCiAgICAKICAgIAogICAgICAgIHZhciBib3VuZHMgPSBudWxsOwogICAgCgogICAgdmFyIG1hcF9mN2IwMjk3MmRhZTM0MzliOTQxNjM3MmVkMWMxZjk4NyA9IEwubWFwKAogICAgICAgICdtYXBfZjdiMDI5NzJkYWUzNDM5Yjk0MTYzNzJlZDFjMWY5ODcnLCB7CiAgICAgICAgY2VudGVyOiBbNTIuMzc5MTg5LCA0Ljg5OTQzMV0sCiAgICAgICAgem9vbTogNiwKICAgICAgICBtYXhCb3VuZHM6IGJvdW5kcywKICAgICAgICBsYXllcnM6IFtdLAogICAgICAgIHdvcmxkQ29weUp1bXA6IGZhbHNlLAogICAgICAgIGNyczogTC5DUlMuRVBTRzM4NTcsCiAgICAgICAgem9vbUNvbnRyb2w6IHRydWUsCiAgICAgICAgfSk7CgogICAgCiAgICAKICAgIHZhciB0aWxlX2xheWVyX2ViMjM3MzkwYWM0YjQ2MDhiNGRlNThhYmM0NmYyNjYzID0gTC50aWxlTGF5ZXIoCiAgICAgICAgJ2h0dHBzOi8vc3RhbWVuLXRpbGVzLXtzfS5hLnNzbC5mYXN0bHkubmV0L3RvbmVyL3t6fS97eH0ve3l9LnBuZycsCiAgICAgICAgewogICAgICAgICJhdHRyaWJ1dGlvbiI6IG51bGwsIAogICAgICAgICJkZXRlY3RSZXRpbmEiOiBmYWxzZSwgCiAgICAgICAgIm1heE5hdGl2ZVpvb20iOiAxOCwgCiAgICAgICAgIm1heFpvb20iOiAxOCwgCiAgICAgICAgIm1pblpvb20iOiAwLCAKICAgICAgICAibm9XcmFwIjogZmFsc2UsIAogICAgICAgICJzdWJkb21haW5zIjogImFiYyIKfSkuYWRkVG8obWFwX2Y3YjAyOTcyZGFlMzQzOWI5NDE2MzcyZWQxYzFmOTg3KTsKICAgIAogICAgICAgIHZhciBtYXJrZXJfY2E5Mjg2MzA2NjY3NGRiMDg0MDA3YTJiM2FhMTMyYTcgPSBMLm1hcmtlcigKICAgICAgICAgICAgWzUyLjM3OTE4OSwgNC44OTk0MzFdLAogICAgICAgICAgICB7CiAgICAgICAgICAgICAgICBpY29uOiBuZXcgTC5JY29uLkRlZmF1bHQoKQogICAgICAgICAgICAgICAgfQogICAgICAgICAgICApLmFkZFRvKG1hcF9mN2IwMjk3MmRhZTM0MzliOTQxNjM3MmVkMWMxZjk4Nyk7CiAgICAgICAgCiAgICAKICAgICAgICAgICAgdmFyIHBvcHVwX2UzZDE0ZjQ2OGRlMzRmNjk5MmMyMWNjMzAzZGQ5MDEzID0gTC5wb3B1cCh7bWF4V2lkdGg6ICczMDAnCiAgICAgICAgICAgIAogICAgICAgICAgICB9KTsKCiAgICAgICAgICAgIAogICAgICAgICAgICAgICAgdmFyIGh0bWxfNmUyZjQ1ZjAwY2ZkNDcyN2E2YjI1YzcyOWQ1YTAzYWYgPSAkKCc8ZGl2IGlkPSJodG1sXzZlMmY0NWYwMGNmZDQ3MjdhNmIyNWM3MjlkNWEwM2FmIiBzdHlsZT0id2lkdGg6IDEwMC4wJTsgaGVpZ2h0OiAxMDAuMCU7Ij5Qb3B1bGF0aW9uIDgyMTc1MjwvZGl2PicpWzBdOwogICAgICAgICAgICAgICAgcG9wdXBfZTNkMTRmNDY4ZGUzNGY2OTkyYzIxY2MzMDNkZDkwMTMuc2V0Q29udGVudChodG1sXzZlMmY0NWYwMGNmZDQ3MjdhNmIyNWM3MjlkNWEwM2FmKTsKICAgICAgICAgICAgCgogICAgICAgICAgICBtYXJrZXJfY2E5Mjg2MzA2NjY3NGRiMDg0MDA3YTJiM2FhMTMyYTcuYmluZFBvcHVwKHBvcHVwX2UzZDE0ZjQ2OGRlMzRmNjk5MmMyMWNjMzAzZGQ5MDEzKQogICAgICAgICAgICA7CgogICAgICAgICAgICAKICAgICAgICAKICAgIAogICAgICAgICAgICAgICAgdmFyIHBvbHlfbGluZV85N2FhZGVmNzFjMjY0ODgzYmJiOTQzMWE4Y2E1ZTA3ZiA9IEwucG9seWxpbmUoCiAgICAgICAgICAgICAgICAgICAgW1s1Mi4wOTI4NzYsIDUuMTA0NDhdLCBbNTIuMDc4NjYzLCA0LjI4ODc4OF0sIFs1My42MTIzOSwgLTAuMjIyMTldXSwKICAgICAgICAgICAgICAgICAgICB7CiAgImJ1YmJsaW5nTW91c2VFdmVudHMiOiB0cnVlLCAKICAiY29sb3IiOiAicmVkIiwgCiAgImRhc2hBcnJheSI6IG51bGwsIAogICJkYXNoT2Zmc2V0IjogbnVsbCwgCiAgImZpbGwiOiBmYWxzZSwgCiAgImZpbGxDb2xvciI6ICJyZWQiLCAKICAiZmlsbE9wYWNpdHkiOiAwLjIsIAogICJmaWxsUnVsZSI6ICJldmVub2RkIiwgCiAgImxpbmVDYXAiOiAicm91bmQiLCAKICAibGluZUpvaW4iOiAicm91bmQiLCAKICAibm9DbGlwIjogZmFsc2UsIAogICJvcGFjaXR5IjogMSwgCiAgInNtb290aEZhY3RvciI6IDEuMCwgCiAgInN0cm9rZSI6IHRydWUsIAogICJ3ZWlnaHQiOiAyLjUKfQogICAgICAgICAgICAgICAgICAgICkKICAgICAgICAgICAgICAgICAgICAuYWRkVG8obWFwX2Y3YjAyOTcyZGFlMzQzOWI5NDE2MzcyZWQxYzFmOTg3KTsKICAgICAgICAgICAgCiAgICAKICAgICAgICB2YXIgbWFya2VyX2Y3NzZiMTg2MzI1ODQyZjhiMTc2YzM5NTQzOTI0N2QwID0gTC5tYXJrZXIoCiAgICAgICAgICAgIFs1Mi4wOTI4NzYsIDUuMTA0NDhdLAogICAgICAgICAgICB7CiAgICAgICAgICAgICAgICBpY29uOiBuZXcgTC5JY29uLkRlZmF1bHQoKQogICAgICAgICAgICAgICAgfQogICAgICAgICAgICApLmFkZFRvKG1hcF9mN2IwMjk3MmRhZTM0MzliOTQxNjM3MmVkMWMxZjk4Nyk7CiAgICAgICAgCiAgICAKICAgICAgICAgICAgdmFyIHBvcHVwX2Q3ZWM3NTU4OWY4YzQ4ODNiNWRmM2QwYWQ3MDI3MWI2ID0gTC5wb3B1cCh7bWF4V2lkdGg6ICczMDAnCiAgICAgICAgICAgIAogICAgICAgICAgICB9KTsKCiAgICAgICAgICAgIAogICAgICAgICAgICAgICAgdmFyIGh0bWxfOGFmMDQzYzJiNmIwNGZhYzkyZGJkYmIyNDFiZDUyYTcgPSAkKCc8ZGl2IGlkPSJodG1sXzhhZjA0M2MyYjZiMDRmYWM5MmRiZGJiMjQxYmQ1MmE3IiBzdHlsZT0id2lkdGg6IDEwMC4wJTsgaGVpZ2h0OiAxMDAuMCU7Ij5Qb3B1bGF0aW9uIDMzNDE3NjwvZGl2PicpWzBdOwogICAgICAgICAgICAgICAgcG9wdXBfZDdlYzc1NTg5ZjhjNDg4M2I1ZGYzZDBhZDcwMjcxYjYuc2V0Q29udGVudChodG1sXzhhZjA0M2MyYjZiMDRmYWM5MmRiZGJiMjQxYmQ1MmE3KTsKICAgICAgICAgICAgCgogICAgICAgICAgICBtYXJrZXJfZjc3NmIxODYzMjU4NDJmOGIxNzZjMzk1NDM5MjQ3ZDAuYmluZFBvcHVwKHBvcHVwX2Q3ZWM3NTU4OWY4YzQ4ODNiNWRmM2QwYWQ3MDI3MWI2KQogICAgICAgICAgICA7CgogICAgICAgICAgICAKICAgICAgICAKICAgIAogICAgICAgICAgICAgICAgdmFyIHBvbHlfbGluZV8xZGVkNGYyOGU4ZDY0YWFiOTg5NWZhNWU3YWU4Y2Q3OSA9IEwucG9seWxpbmUoCiAgICAgICAgICAgICAgICAgICAgW1s1Mi4zNzkxODksIDQuODk5NDMxXSwgWzUyLjAxNjY3LCA0LjcwODMzXV0sCiAgICAgICAgICAgICAgICAgICAgewogICJidWJibGluZ01vdXNlRXZlbnRzIjogdHJ1ZSwgCiAgImNvbG9yIjogInJlZCIsIAogICJkYXNoQXJyYXkiOiBudWxsLCAKICAiZGFzaE9mZnNldCI6IG51bGwsIAogICJmaWxsIjogZmFsc2UsIAogICJmaWxsQ29sb3IiOiAicmVkIiwgCiAgImZpbGxPcGFjaXR5IjogMC4yLCAKICAiZmlsbFJ1bGUiOiAiZXZlbm9kZCIsIAogICJsaW5lQ2FwIjogInJvdW5kIiwgCiAgImxpbmVKb2luIjogInJvdW5kIiwgCiAgIm5vQ2xpcCI6IGZhbHNlLCAKICAib3BhY2l0eSI6IDEsIAogICJzbW9vdGhGYWN0b3IiOiAxLjAsIAogICJzdHJva2UiOiB0cnVlLCAKICAid2VpZ2h0IjogMi41Cn0KICAgICAgICAgICAgICAgICAgICApCiAgICAgICAgICAgICAgICAgICAgLmFkZFRvKG1hcF9mN2IwMjk3MmRhZTM0MzliOTQxNjM3MmVkMWMxZjk4Nyk7CiAgICAgICAgICAgIAogICAgCiAgICAgICAgdmFyIG1hcmtlcl8yOWY3MDJkZDU4MTU0Y2JhYTVkMTJhZTIxMTNlYjRhZSA9IEwubWFya2VyKAogICAgICAgICAgICBbNTIuMDc4NjYzLCA0LjI4ODc4OF0sCiAgICAgICAgICAgIHsKICAgICAgICAgICAgICAgIGljb246IG5ldyBMLkljb24uRGVmYXVsdCgpCiAgICAgICAgICAgICAgICB9CiAgICAgICAgICAgICkuYWRkVG8obWFwX2Y3YjAyOTcyZGFlMzQzOWI5NDE2MzcyZWQxYzFmOTg3KTsKICAgICAgICAKICAgIAogICAgICAgICAgICB2YXIgcG9wdXBfZjBlNDQ2MzlkYmM1NGE3ODkwYzk4MmQ4ZjM2Y2I1M2YgPSBMLnBvcHVwKHttYXhXaWR0aDogJzMwMCcKICAgICAgICAgICAgCiAgICAgICAgICAgIH0pOwoKICAgICAgICAgICAgCiAgICAgICAgICAgICAgICB2YXIgaHRtbF9iNTI5NDRkMGIzNzI0MGY1OTRmYTAyY2FjMDQ3YjM2NiA9ICQoJzxkaXYgaWQ9Imh0bWxfYjUyOTQ0ZDBiMzcyNDBmNTk0ZmEwMmNhYzA0N2IzNjYiIHN0eWxlPSJ3aWR0aDogMTAwLjAlOyBoZWlnaHQ6IDEwMC4wJTsiPlBvcHVsYXRpb24gNTE0ODYxPC9kaXY+JylbMF07CiAgICAgICAgICAgICAgICBwb3B1cF9mMGU0NDYzOWRiYzU0YTc4OTBjOTgyZDhmMzZjYjUzZi5zZXRDb250ZW50KGh0bWxfYjUyOTQ0ZDBiMzcyNDBmNTk0ZmEwMmNhYzA0N2IzNjYpOwogICAgICAgICAgICAKCiAgICAgICAgICAgIG1hcmtlcl8yOWY3MDJkZDU4MTU0Y2JhYTVkMTJhZTIxMTNlYjRhZS5iaW5kUG9wdXAocG9wdXBfZjBlNDQ2MzlkYmM1NGE3ODkwYzk4MmQ4ZjM2Y2I1M2YpCiAgICAgICAgICAgIDsKCiAgICAgICAgICAgIAogICAgICAgIAogICAgCiAgICAgICAgICAgICAgICB2YXIgcG9seV9saW5lXzBkMGFlOWY5YzJiYjRlNTg4ZjdhNTY0YzNlZDA2NGViID0gTC5wb2x5bGluZSgKICAgICAgICAgICAgICAgICAgICBbWzUxLjkyMjUsIDQuNDc5MTddLCBbNTIuMDE2NjcsIDQuNzA4MzNdLCBbNTIuMzc5MTg5LCA0Ljg5OTQzMV0sIFs1MS45Nzc1LCA0LjEzMzMzXV0sCiAgICAgICAgICAgICAgICAgICAgewogICJidWJibGluZ01vdXNlRXZlbnRzIjogdHJ1ZSwgCiAgImNvbG9yIjogInJlZCIsIAogICJkYXNoQXJyYXkiOiBudWxsLCAKICAiZGFzaE9mZnNldCI6IG51bGwsIAogICJmaWxsIjogZmFsc2UsIAogICJmaWxsQ29sb3IiOiAicmVkIiwgCiAgImZpbGxPcGFjaXR5IjogMC4yLCAKICAiZmlsbFJ1bGUiOiAiZXZlbm9kZCIsIAogICJsaW5lQ2FwIjogInJvdW5kIiwgCiAgImxpbmVKb2luIjogInJvdW5kIiwgCiAgIm5vQ2xpcCI6IGZhbHNlLCAKICAib3BhY2l0eSI6IDEsIAogICJzbW9vdGhGYWN0b3IiOiAxLjAsIAogICJzdHJva2UiOiB0cnVlLCAKICAid2VpZ2h0IjogMi41Cn0KICAgICAgICAgICAgICAgICAgICApCiAgICAgICAgICAgICAgICAgICAgLmFkZFRvKG1hcF9mN2IwMjk3MmRhZTM0MzliOTQxNjM3MmVkMWMxZjk4Nyk7CiAgICAgICAgICAgIAogICAgCiAgICAgICAgdmFyIG1hcmtlcl8zODU3MDM5ZGZlMTI0ZGE3YTY1Zjk2MmM0ZWVhMDhhNSA9IEwubWFya2VyKAogICAgICAgICAgICBbNTMuNjEyMzksIC0wLjIyMjE5XSwKICAgICAgICAgICAgewogICAgICAgICAgICAgICAgaWNvbjogbmV3IEwuSWNvbi5EZWZhdWx0KCkKICAgICAgICAgICAgICAgIH0KICAgICAgICAgICAgKS5hZGRUbyhtYXBfZjdiMDI5NzJkYWUzNDM5Yjk0MTYzNzJlZDFjMWY5ODcpOwogICAgICAgIAogICAgCiAgICAgICAgICAgIHZhciBwb3B1cF83YzZkYTY3NDdiZjY0NzI1ODk3YzVhZjMwMTZhZWVkNSA9IEwucG9wdXAoe21heFdpZHRoOiAnMzAwJwogICAgICAgICAgICAKICAgICAgICAgICAgfSk7CgogICAgICAgICAgICAKICAgICAgICAgICAgICAgIHZhciBodG1sX2NkYWEzZTA4ZmZjYTRiOTFiNGExNGI4ZjU3MjZiMzJmID0gJCgnPGRpdiBpZD0iaHRtbF9jZGFhM2UwOGZmY2E0YjkxYjRhMTRiOGY1NzI2YjMyZiIgc3R5bGU9IndpZHRoOiAxMDAuMCU7IGhlaWdodDogMTAwLjAlOyI+UG9wdWxhdGlvbiA5NjQyPC9kaXY+JylbMF07CiAgICAgICAgICAgICAgICBwb3B1cF83YzZkYTY3NDdiZjY0NzI1ODk3YzVhZjMwMTZhZWVkNS5zZXRDb250ZW50KGh0bWxfY2RhYTNlMDhmZmNhNGI5MWI0YTE0YjhmNTcyNmIzMmYpOwogICAgICAgICAgICAKCiAgICAgICAgICAgIG1hcmtlcl8zODU3MDM5ZGZlMTI0ZGE3YTY1Zjk2MmM0ZWVhMDhhNS5iaW5kUG9wdXAocG9wdXBfN2M2ZGE2NzQ3YmY2NDcyNTg5N2M1YWYzMDE2YWVlZDUpCiAgICAgICAgICAgIDsKCiAgICAgICAgICAgIAogICAgICAgIAogICAgCiAgICAgICAgICAgICAgICB2YXIgcG9seV9saW5lX2JiOTA2ZjRmZTBmMTQ2N2JhNDUwOTliNzYyOTM5MjRhID0gTC5wb2x5bGluZSgKICAgICAgICAgICAgICAgICAgICBbWzUzLjUyMjg1LCAtMS4xMzExNl0sIFs1Mi4zNzkxODksIDQuODk5NDMxXV0sCiAgICAgICAgICAgICAgICAgICAgewogICJidWJibGluZ01vdXNlRXZlbnRzIjogdHJ1ZSwgCiAgImNvbG9yIjogInJlZCIsIAogICJkYXNoQXJyYXkiOiBudWxsLCAKICAiZGFzaE9mZnNldCI6IG51bGwsIAogICJmaWxsIjogZmFsc2UsIAogICJmaWxsQ29sb3IiOiAicmVkIiwgCiAgImZpbGxPcGFjaXR5IjogMC4yLCAKICAiZmlsbFJ1bGUiOiAiZXZlbm9kZCIsIAogICJsaW5lQ2FwIjogInJvdW5kIiwgCiAgImxpbmVKb2luIjogInJvdW5kIiwgCiAgIm5vQ2xpcCI6IGZhbHNlLCAKICAib3BhY2l0eSI6IDEsIAogICJzbW9vdGhGYWN0b3IiOiAxLjAsIAogICJzdHJva2UiOiB0cnVlLCAKICAid2VpZ2h0IjogMi41Cn0KICAgICAgICAgICAgICAgICAgICApCiAgICAgICAgICAgICAgICAgICAgLmFkZFRvKG1hcF9mN2IwMjk3MmRhZTM0MzliOTQxNjM3MmVkMWMxZjk4Nyk7CiAgICAgICAgICAgIAogICAgCiAgICAgICAgdmFyIG1hcmtlcl9hMWE0YmYyMzM1MTY0Y2E5YjI5OTg3MTRhMGFkMzc5ZiA9IEwubWFya2VyKAogICAgICAgICAgICBbNTMuNTIyODUsIC0xLjEzMTE2XSwKICAgICAgICAgICAgewogICAgICAgICAgICAgICAgaWNvbjogbmV3IEwuSWNvbi5EZWZhdWx0KCkKICAgICAgICAgICAgICAgIH0KICAgICAgICAgICAgKS5hZGRUbyhtYXBfZjdiMDI5NzJkYWUzNDM5Yjk0MTYzNzJlZDFjMWY5ODcpOwogICAgICAgIAogICAgCiAgICAgICAgICAgIHZhciBwb3B1cF84Mjc2YzU5YjgzOWU0ODY4OThmZmE1MDM4MzYwMGIyOSA9IEwucG9wdXAoe21heFdpZHRoOiAnMzAwJwogICAgICAgICAgICAKICAgICAgICAgICAgfSk7CgogICAgICAgICAgICAKICAgICAgICAgICAgICAgIHZhciBodG1sX2E4OTVmNDFkYjY3ODQ0MWI4MGQ2M2IxNzk2MzkzMzdjID0gJCgnPGRpdiBpZD0iaHRtbF9hODk1ZjQxZGI2Nzg0NDFiODBkNjNiMTc5NjM5MzM3YyIgc3R5bGU9IndpZHRoOiAxMDAuMCU7IGhlaWdodDogMTAwLjAlOyI+UG9wdWxhdGlvbiAzMDI0MDA8L2Rpdj4nKVswXTsKICAgICAgICAgICAgICAgIHBvcHVwXzgyNzZjNTliODM5ZTQ4Njg5OGZmYTUwMzgzNjAwYjI5LnNldENvbnRlbnQoaHRtbF9hODk1ZjQxZGI2Nzg0NDFiODBkNjNiMTc5NjM5MzM3Yyk7CiAgICAgICAgICAgIAoKICAgICAgICAgICAgbWFya2VyX2ExYTRiZjIzMzUxNjRjYTliMjk5ODcxNGEwYWQzNzlmLmJpbmRQb3B1cChwb3B1cF84Mjc2YzU5YjgzOWU0ODY4OThmZmE1MDM4MzYwMGIyOSkKICAgICAgICAgICAgOwoKICAgICAgICAgICAgCiAgICAgICAgCiAgICAKICAgICAgICAgICAgICAgIHZhciBwb2x5X2xpbmVfNzUyNTMzNzc4NDFhNGMwN2E3YzU2ZDc1NDQ3MWQ3MTIgPSBMLnBvbHlsaW5lKAogICAgICAgICAgICAgICAgICAgIFtbNTEuNTA5ODY1LCAtMC4xMTgwOTJdLCBbNTMuNjEyMzksIC0wLjIyMjE5XV0sCiAgICAgICAgICAgICAgICAgICAgewogICJidWJibGluZ01vdXNlRXZlbnRzIjogdHJ1ZSwgCiAgImNvbG9yIjogInJlZCIsIAogICJkYXNoQXJyYXkiOiBudWxsLCAKICAiZGFzaE9mZnNldCI6IG51bGwsIAogICJmaWxsIjogZmFsc2UsIAogICJmaWxsQ29sb3IiOiAicmVkIiwgCiAgImZpbGxPcGFjaXR5IjogMC4yLCAKICAiZmlsbFJ1bGUiOiAiZXZlbm9kZCIsIAogICJsaW5lQ2FwIjogInJvdW5kIiwgCiAgImxpbmVKb2luIjogInJvdW5kIiwgCiAgIm5vQ2xpcCI6IGZhbHNlLCAKICAib3BhY2l0eSI6IDEsIAogICJzbW9vdGhGYWN0b3IiOiAxLjAsIAogICJzdHJva2UiOiB0cnVlLCAKICAid2VpZ2h0IjogMi41Cn0KICAgICAgICAgICAgICAgICAgICApCiAgICAgICAgICAgICAgICAgICAgLmFkZFRvKG1hcF9mN2IwMjk3MmRhZTM0MzliOTQxNjM3MmVkMWMxZjk4Nyk7CiAgICAgICAgICAgIAogICAgCiAgICAgICAgdmFyIG1hcmtlcl8wMjY3YzJjNGM4ZDg0YzRiYmU1MTE4NTNkNTIwODZmZCA9IEwubWFya2VyKAogICAgICAgICAgICBbNTEuOTc3NSwgNC4xMzMzM10sCiAgICAgICAgICAgIHsKICAgICAgICAgICAgICAgIGljb246IG5ldyBMLkljb24uRGVmYXVsdCgpCiAgICAgICAgICAgICAgICB9CiAgICAgICAgICAgICkuYWRkVG8obWFwX2Y3YjAyOTcyZGFlMzQzOWI5NDE2MzcyZWQxYzFmOTg3KTsKICAgICAgICAKICAgIAogICAgICAgICAgICB2YXIgcG9wdXBfMmNhNGUzZWIyNjk3NDA2MGJmYTc2NTU0ZTdiNjAzYTYgPSBMLnBvcHVwKHttYXhXaWR0aDogJzMwMCcKICAgICAgICAgICAgCiAgICAgICAgICAgIH0pOwoKICAgICAgICAgICAgCiAgICAgICAgICAgICAgICB2YXIgaHRtbF9mODI1ZTRkMGU4MzI0NmU2OWYyNjNlMjljNjdiNzgyYyA9ICQoJzxkaXYgaWQ9Imh0bWxfZjgyNWU0ZDBlODMyNDZlNjlmMjYzZTI5YzY3Yjc4MmMiIHN0eWxlPSJ3aWR0aDogMTAwLjAlOyBoZWlnaHQ6IDEwMC4wJTsiPlBvcHVsYXRpb24gOTM4MjwvZGl2PicpWzBdOwogICAgICAgICAgICAgICAgcG9wdXBfMmNhNGUzZWIyNjk3NDA2MGJmYTc2NTU0ZTdiNjAzYTYuc2V0Q29udGVudChodG1sX2Y4MjVlNGQwZTgzMjQ2ZTY5ZjI2M2UyOWM2N2I3ODJjKTsKICAgICAgICAgICAgCgogICAgICAgICAgICBtYXJrZXJfMDI2N2MyYzRjOGQ4NGM0YmJlNTExODUzZDUyMDg2ZmQuYmluZFBvcHVwKHBvcHVwXzJjYTRlM2ViMjY5NzQwNjBiZmE3NjU1NGU3YjYwM2E2KQogICAgICAgICAgICA7CgogICAgICAgICAgICAKICAgICAgICAKICAgIAogICAgICAgICAgICAgICAgdmFyIHBvbHlfbGluZV9iN2M1NzE0MGQ0MTI0YmQ3YTQ4ZDY0MWFjN2JkZTkxMCA9IEwucG9seWxpbmUoCiAgICAgICAgICAgICAgICAgICAgW1s1Mi4wNzg2NjMsIDQuMjg4Nzg4XSwgWzUxLjkyMjUsIDQuNDc5MTddLCBbNTEuOTYzNzUsIDEuMzUxMV1dLAogICAgICAgICAgICAgICAgICAgIHsKICAiYnViYmxpbmdNb3VzZUV2ZW50cyI6IHRydWUsIAogICJjb2xvciI6ICJyZWQiLCAKICAiZGFzaEFycmF5IjogbnVsbCwgCiAgImRhc2hPZmZzZXQiOiBudWxsLCAKICAiZmlsbCI6IGZhbHNlLCAKICAiZmlsbENvbG9yIjogInJlZCIsIAogICJmaWxsT3BhY2l0eSI6IDAuMiwgCiAgImZpbGxSdWxlIjogImV2ZW5vZGQiLCAKICAibGluZUNhcCI6ICJyb3VuZCIsIAogICJsaW5lSm9pbiI6ICJyb3VuZCIsIAogICJub0NsaXAiOiBmYWxzZSwgCiAgIm9wYWNpdHkiOiAxLCAKICAic21vb3RoRmFjdG9yIjogMS4wLCAKICAic3Ryb2tlIjogdHJ1ZSwgCiAgIndlaWdodCI6IDIuNQp9CiAgICAgICAgICAgICAgICAgICAgKQogICAgICAgICAgICAgICAgICAgIC5hZGRUbyhtYXBfZjdiMDI5NzJkYWUzNDM5Yjk0MTYzNzJlZDFjMWY5ODcpOwogICAgICAgICAgICAKICAgIAogICAgICAgIHZhciBtYXJrZXJfZmE3N2UzZWJhY2Q4NDVlYWEyNmI1Y2IzNTgyZDdkODUgPSBMLm1hcmtlcigKICAgICAgICAgICAgWzUxLjk2Mzc1LCAxLjM1MTFdLAogICAgICAgICAgICB7CiAgICAgICAgICAgICAgICBpY29uOiBuZXcgTC5JY29uLkRlZmF1bHQoKQogICAgICAgICAgICAgICAgfQogICAgICAgICAgICApLmFkZFRvKG1hcF9mN2IwMjk3MmRhZTM0MzliOTQxNjM3MmVkMWMxZjk4Nyk7CiAgICAgICAgCiAgICAKICAgICAgICAgICAgdmFyIHBvcHVwXzAwNDQ2MjkxNjQ2ZTRmNjdhMzg4MjBiMTAyMTE3MGYxID0gTC5wb3B1cCh7bWF4V2lkdGg6ICczMDAnCiAgICAgICAgICAgIAogICAgICAgICAgICB9KTsKCiAgICAgICAgICAgIAogICAgICAgICAgICAgICAgdmFyIGh0bWxfOTQ4N2VkNmM2ZTAyNDUzNzkwN2ZlY2UxOTNkZTE1MzkgPSAkKCc8ZGl2IGlkPSJodG1sXzk0ODdlZDZjNmUwMjQ1Mzc5MDdmZWNlMTkzZGUxNTM5IiBzdHlsZT0id2lkdGg6IDEwMC4wJTsgaGVpZ2h0OiAxMDAuMCU7Ij5Qb3B1bGF0aW9uIDIzNjg5PC9kaXY+JylbMF07CiAgICAgICAgICAgICAgICBwb3B1cF8wMDQ0NjI5MTY0NmU0ZjY3YTM4ODIwYjEwMjExNzBmMS5zZXRDb250ZW50KGh0bWxfOTQ4N2VkNmM2ZTAyNDUzNzkwN2ZlY2UxOTNkZTE1MzkpOwogICAgICAgICAgICAKCiAgICAgICAgICAgIG1hcmtlcl9mYTc3ZTNlYmFjZDg0NWVhYTI2YjVjYjM1ODJkN2Q4NS5iaW5kUG9wdXAocG9wdXBfMDA0NDYyOTE2NDZlNGY2N2EzODgyMGIxMDIxMTcwZjEpCiAgICAgICAgICAgIDsKCiAgICAgICAgICAgIAogICAgICAgIAogICAgCiAgICAgICAgICAgICAgICB2YXIgcG9seV9saW5lXzgxYzkyN2U5OWJiNjQ1N2JiYWI2YzVmY2Y5YmY5NmIxID0gTC5wb2x5bGluZSgKICAgICAgICAgICAgICAgICAgICBbWzUxLjk3NzUsIDQuMTMzMzNdLCBbNTIuMDU5MTcsIDEuMTU1NDVdXSwKICAgICAgICAgICAgICAgICAgICB7CiAgImJ1YmJsaW5nTW91c2VFdmVudHMiOiB0cnVlLCAKICAiY29sb3IiOiAicmVkIiwgCiAgImRhc2hBcnJheSI6IG51bGwsIAogICJkYXNoT2Zmc2V0IjogbnVsbCwgCiAgImZpbGwiOiBmYWxzZSwgCiAgImZpbGxDb2xvciI6ICJyZWQiLCAKICAiZmlsbE9wYWNpdHkiOiAwLjIsIAogICJmaWxsUnVsZSI6ICJldmVub2RkIiwgCiAgImxpbmVDYXAiOiAicm91bmQiLCAKICAibGluZUpvaW4iOiAicm91bmQiLCAKICAibm9DbGlwIjogZmFsc2UsIAogICJvcGFjaXR5IjogMSwgCiAgInNtb290aEZhY3RvciI6IDEuMCwgCiAgInN0cm9rZSI6IHRydWUsIAogICJ3ZWlnaHQiOiAyLjUKfQogICAgICAgICAgICAgICAgICAgICkKICAgICAgICAgICAgICAgICAgICAuYWRkVG8obWFwX2Y3YjAyOTcyZGFlMzQzOWI5NDE2MzcyZWQxYzFmOTg3KTsKICAgICAgICAgICAgCiAgICAKICAgICAgICB2YXIgbWFya2VyX2Y2MjViODZkYjVmZDQ2OTNiMTExNWQ5NWI5MmZhOTRlID0gTC5tYXJrZXIoCiAgICAgICAgICAgIFs1Mi4wNTkxNywgMS4xNTU0NV0sCiAgICAgICAgICAgIHsKICAgICAgICAgICAgICAgIGljb246IG5ldyBMLkljb24uRGVmYXVsdCgpCiAgICAgICAgICAgICAgICB9CiAgICAgICAgICAgICkuYWRkVG8obWFwX2Y3YjAyOTcyZGFlMzQzOWI5NDE2MzcyZWQxYzFmOTg3KTsKICAgICAgICAKICAgIAogICAgICAgICAgICB2YXIgcG9wdXBfZjEwYjUyMGJkMzllNDBlN2E0NjFiOGQ0ZWQ4MzYxNTMgPSBMLnBvcHVwKHttYXhXaWR0aDogJzMwMCcKICAgICAgICAgICAgCiAgICAgICAgICAgIH0pOwoKICAgICAgICAgICAgCiAgICAgICAgICAgICAgICB2YXIgaHRtbF8wNTc4ZWZlMGZlOWI0OWYyOWM3ZmI3NWJkZjAzMzNjOCA9ICQoJzxkaXYgaWQ9Imh0bWxfMDU3OGVmZTBmZTliNDlmMjljN2ZiNzViZGYwMzMzYzgiIHN0eWxlPSJ3aWR0aDogMTAwLjAlOyBoZWlnaHQ6IDEwMC4wJTsiPlBvcHVsYXRpb24gMTMzMzg0PC9kaXY+JylbMF07CiAgICAgICAgICAgICAgICBwb3B1cF9mMTBiNTIwYmQzOWU0MGU3YTQ2MWI4ZDRlZDgzNjE1My5zZXRDb250ZW50KGh0bWxfMDU3OGVmZTBmZTliNDlmMjljN2ZiNzViZGYwMzMzYzgpOwogICAgICAgICAgICAKCiAgICAgICAgICAgIG1hcmtlcl9mNjI1Yjg2ZGI1ZmQ0NjkzYjExMTVkOTViOTJmYTk0ZS5iaW5kUG9wdXAocG9wdXBfZjEwYjUyMGJkMzllNDBlN2E0NjFiOGQ0ZWQ4MzYxNTMpCiAgICAgICAgICAgIDsKCiAgICAgICAgICAgIAogICAgICAgIAogICAgCiAgICAgICAgICAgICAgICB2YXIgcG9seV9saW5lXzliMGVkNTMxMmNmMTQ1YTFhNTgyY2UxM2NlNWExZGU5ID0gTC5wb2x5bGluZSgKICAgICAgICAgICAgICAgICAgICBbWzUxLjk2Mzc1LCAxLjM1MTFdLCBbNTEuODg5MjEsIDAuOTA0MjFdXSwKICAgICAgICAgICAgICAgICAgICB7CiAgImJ1YmJsaW5nTW91c2VFdmVudHMiOiB0cnVlLCAKICAiY29sb3IiOiAicmVkIiwgCiAgImRhc2hBcnJheSI6IG51bGwsIAogICJkYXNoT2Zmc2V0IjogbnVsbCwgCiAgImZpbGwiOiBmYWxzZSwgCiAgImZpbGxDb2xvciI6ICJyZWQiLCAKICAiZmlsbE9wYWNpdHkiOiAwLjIsIAogICJmaWxsUnVsZSI6ICJldmVub2RkIiwgCiAgImxpbmVDYXAiOiAicm91bmQiLCAKICAibGluZUpvaW4iOiAicm91bmQiLCAKICAibm9DbGlwIjogZmFsc2UsIAogICJvcGFjaXR5IjogMSwgCiAgInNtb290aEZhY3RvciI6IDEuMCwgCiAgInN0cm9rZSI6IHRydWUsIAogICJ3ZWlnaHQiOiAyLjUKfQogICAgICAgICAgICAgICAgICAgICkKICAgICAgICAgICAgICAgICAgICAuYWRkVG8obWFwX2Y3YjAyOTcyZGFlMzQzOWI5NDE2MzcyZWQxYzFmOTg3KTsKICAgICAgICAgICAgCiAgICAKICAgICAgICB2YXIgbWFya2VyX2NiNDdhNzJiOTdmMjQwYjJiNjI5ZTQwN2E0MmNhODBhID0gTC5tYXJrZXIoCiAgICAgICAgICAgIFs1MS44ODkyMSwgMC45MDQyMV0sCiAgICAgICAgICAgIHsKICAgICAgICAgICAgICAgIGljb246IG5ldyBMLkljb24uRGVmYXVsdCgpCiAgICAgICAgICAgICAgICB9CiAgICAgICAgICAgICkuYWRkVG8obWFwX2Y3YjAyOTcyZGFlMzQzOWI5NDE2MzcyZWQxYzFmOTg3KTsKICAgICAgICAKICAgIAogICAgICAgICAgICB2YXIgcG9wdXBfZjZmNjczNzkwMDcyNDMxZTk5M2M0NWQ1YTUzNDc0ZDUgPSBMLnBvcHVwKHttYXhXaWR0aDogJzMwMCcKICAgICAgICAgICAgCiAgICAgICAgICAgIH0pOwoKICAgICAgICAgICAgCiAgICAgICAgICAgICAgICB2YXIgaHRtbF9iODhjODQ0NDEzMDk0M2I1YjJjZDA1Y2I2ZmI0M2QzZSA9ICQoJzxkaXYgaWQ9Imh0bWxfYjg4Yzg0NDQxMzA5NDNiNWIyY2QwNWNiNmZiNDNkM2UiIHN0eWxlPSJ3aWR0aDogMTAwLjAlOyBoZWlnaHQ6IDEwMC4wJTsiPlBvcHVsYXRpb24gMTA0MzkwPC9kaXY+JylbMF07CiAgICAgICAgICAgICAgICBwb3B1cF9mNmY2NzM3OTAwNzI0MzFlOTkzYzQ1ZDVhNTM0NzRkNS5zZXRDb250ZW50KGh0bWxfYjg4Yzg0NDQxMzA5NDNiNWIyY2QwNWNiNmZiNDNkM2UpOwogICAgICAgICAgICAKCiAgICAgICAgICAgIG1hcmtlcl9jYjQ3YTcyYjk3ZjI0MGIyYjYyOWU0MDdhNDJjYTgwYS5iaW5kUG9wdXAocG9wdXBfZjZmNjczNzkwMDcyNDMxZTk5M2M0NWQ1YTUzNDc0ZDUpCiAgICAgICAgICAgIDsKCiAgICAgICAgICAgIAogICAgICAgIAogICAgCiAgICAgICAgICAgICAgICB2YXIgcG9seV9saW5lX2IxZDBiYjkwNWZlYzQ3OTc5ZDY2Mjk4YmE3YjJkNWY4ID0gTC5wb2x5bGluZSgKICAgICAgICAgICAgICAgICAgICBbWzUyLjA1OTE3LCAxLjE1NTQ1XSwgWzUxLjUwOTg2NSwgLTAuMTE4MDkyXV0sCiAgICAgICAgICAgICAgICAgICAgewogICJidWJibGluZ01vdXNlRXZlbnRzIjogdHJ1ZSwgCiAgImNvbG9yIjogInJlZCIsIAogICJkYXNoQXJyYXkiOiBudWxsLCAKICAiZGFzaE9mZnNldCI6IG51bGwsIAogICJmaWxsIjogZmFsc2UsIAogICJmaWxsQ29sb3IiOiAicmVkIiwgCiAgImZpbGxPcGFjaXR5IjogMC4yLCAKICAiZmlsbFJ1bGUiOiAiZXZlbm9kZCIsIAogICJsaW5lQ2FwIjogInJvdW5kIiwgCiAgImxpbmVKb2luIjogInJvdW5kIiwgCiAgIm5vQ2xpcCI6IGZhbHNlLCAKICAib3BhY2l0eSI6IDEsIAogICJzbW9vdGhGYWN0b3IiOiAxLjAsIAogICJzdHJva2UiOiB0cnVlLCAKICAid2VpZ2h0IjogMi41Cn0KICAgICAgICAgICAgICAgICAgICApCiAgICAgICAgICAgICAgICAgICAgLmFkZFRvKG1hcF9mN2IwMjk3MmRhZTM0MzliOTQxNjM3MmVkMWMxZjk4Nyk7CiAgICAgICAgICAgIAogICAgCiAgICAgICAgdmFyIG1hcmtlcl8xNjNmYjMxMmNhNWM0YTE2YTA1ODY4ZmFmNjc2ZTRmYiA9IEwubWFya2VyKAogICAgICAgICAgICBbNTEuNTA5ODY1LCAtMC4xMTgwOTJdLAogICAgICAgICAgICB7CiAgICAgICAgICAgICAgICBpY29uOiBuZXcgTC5JY29uLkRlZmF1bHQoKQogICAgICAgICAgICAgICAgfQogICAgICAgICAgICApLmFkZFRvKG1hcF9mN2IwMjk3MmRhZTM0MzliOTQxNjM3MmVkMWMxZjk4Nyk7CiAgICAgICAgCiAgICAKICAgICAgICAgICAgdmFyIHBvcHVwXzM2OGI0OTc4OWJkMzQwMzlhNWZhNjhiNjNiNzUxNjYyID0gTC5wb3B1cCh7bWF4V2lkdGg6ICczMDAnCiAgICAgICAgICAgIAogICAgICAgICAgICB9KTsKCiAgICAgICAgICAgIAogICAgICAgICAgICAgICAgdmFyIGh0bWxfYmEzNWU5ODlhMjg5NDVhNzk4ZDQzY2E0YzQ4MDE3NTIgPSAkKCc8ZGl2IGlkPSJodG1sX2JhMzVlOTg5YTI4OTQ1YTc5OGQ0M2NhNGM0ODAxNzUyIiBzdHlsZT0id2lkdGg6IDEwMC4wJTsgaGVpZ2h0OiAxMDAuMCU7Ij5Qb3B1bGF0aW9uIDg3ODc4OTI8L2Rpdj4nKVswXTsKICAgICAgICAgICAgICAgIHBvcHVwXzM2OGI0OTc4OWJkMzQwMzlhNWZhNjhiNjNiNzUxNjYyLnNldENvbnRlbnQoaHRtbF9iYTM1ZTk4OWEyODk0NWE3OThkNDNjYTRjNDgwMTc1Mik7CiAgICAgICAgICAgIAoKICAgICAgICAgICAgbWFya2VyXzE2M2ZiMzEyY2E1YzRhMTZhMDU4NjhmYWY2NzZlNGZiLmJpbmRQb3B1cChwb3B1cF8zNjhiNDk3ODliZDM0MDM5YTVmYTY4YjYzYjc1MTY2MikKICAgICAgICAgICAgOwoKICAgICAgICAgICAgCiAgICAgICAgCiAgICAKICAgICAgICAgICAgICAgIHZhciBwb2x5X2xpbmVfZmM2Y2I3NGFlMGNhNDg1YmI1MTY5MjBkODgxOGZjZmUgPSBMLnBvbHlsaW5lKAogICAgICAgICAgICAgICAgICAgIFtbNTEuODg5MjEsIDAuOTA0MjFdLCBbNTMuNTIyODUsIC0xLjEzMTE2XV0sCiAgICAgICAgICAgICAgICAgICAgewogICJidWJibGluZ01vdXNlRXZlbnRzIjogdHJ1ZSwgCiAgImNvbG9yIjogInJlZCIsIAogICJkYXNoQXJyYXkiOiBudWxsLCAKICAiZGFzaE9mZnNldCI6IG51bGwsIAogICJmaWxsIjogZmFsc2UsIAogICJmaWxsQ29sb3IiOiAicmVkIiwgCiAgImZpbGxPcGFjaXR5IjogMC4yLCAKICAiZmlsbFJ1bGUiOiAiZXZlbm9kZCIsIAogICJsaW5lQ2FwIjogInJvdW5kIiwgCiAgImxpbmVKb2luIjogInJvdW5kIiwgCiAgIm5vQ2xpcCI6IGZhbHNlLCAKICAib3BhY2l0eSI6IDEsIAogICJzbW9vdGhGYWN0b3IiOiAxLjAsIAogICJzdHJva2UiOiB0cnVlLCAKICAid2VpZ2h0IjogMi41Cn0KICAgICAgICAgICAgICAgICAgICApCiAgICAgICAgICAgICAgICAgICAgLmFkZFRvKG1hcF9mN2IwMjk3MmRhZTM0MzliOTQxNjM3MmVkMWMxZjk4Nyk7CiAgICAgICAgICAgIAogICAgCiAgICAgICAgdmFyIG1hcmtlcl8zZDdjYzE2NGVkZTI0OTJjOTgwZWE1N2JkYjU2Zjc2MCA9IEwubWFya2VyKAogICAgICAgICAgICBbNTEuOTIyNSwgNC40NzkxN10sCiAgICAgICAgICAgIHsKICAgICAgICAgICAgICAgIGljb246IG5ldyBMLkljb24uRGVmYXVsdCgpCiAgICAgICAgICAgICAgICB9CiAgICAgICAgICAgICkuYWRkVG8obWFwX2Y3YjAyOTcyZGFlMzQzOWI5NDE2MzcyZWQxYzFmOTg3KTsKICAgICAgICAKICAgIAogICAgICAgICAgICB2YXIgcG9wdXBfNWQxZmRiOTNkYTg3NGNkZDk0ODIyNzNlODlkNzcxM2YgPSBMLnBvcHVwKHttYXhXaWR0aDogJzMwMCcKICAgICAgICAgICAgCiAgICAgICAgICAgIH0pOwoKICAgICAgICAgICAgCiAgICAgICAgICAgICAgICB2YXIgaHRtbF81NTNmNTA4YTE3NGI0NDY4OWRiNzhmM2Q1MDFjNmJiMiA9ICQoJzxkaXYgaWQ9Imh0bWxfNTUzZjUwOGExNzRiNDQ2ODlkYjc4ZjNkNTAxYzZiYjIiIHN0eWxlPSJ3aWR0aDogMTAwLjAlOyBoZWlnaHQ6IDEwMC4wJTsiPlBvcHVsYXRpb24gNjIzNjUyPC9kaXY+JylbMF07CiAgICAgICAgICAgICAgICBwb3B1cF81ZDFmZGI5M2RhODc0Y2RkOTQ4MjI3M2U4OWQ3NzEzZi5zZXRDb250ZW50KGh0bWxfNTUzZjUwOGExNzRiNDQ2ODlkYjc4ZjNkNTAxYzZiYjIpOwogICAgICAgICAgICAKCiAgICAgICAgICAgIG1hcmtlcl8zZDdjYzE2NGVkZTI0OTJjOTgwZWE1N2JkYjU2Zjc2MC5iaW5kUG9wdXAocG9wdXBfNWQxZmRiOTNkYTg3NGNkZDk0ODIyNzNlODlkNzcxM2YpCiAgICAgICAgICAgIDsKCiAgICAgICAgICAgIAogICAgICAgIAogICAgCiAgICAgICAgICAgICAgICB2YXIgcG9seV9saW5lXzk3MGRmODJhNzYyMjQ1ODFiN2YwN2E1MTllYTg3NDgxID0gTC5wb2x5bGluZSgKICAgICAgICAgICAgICAgICAgICBbWzUyLjA3ODY2MywgNC4yODg3ODhdLCBbNTIuMDE2NjcsIDQuNzA4MzNdLCBbNTEuOTc3NSwgNC4xMzMzM11dLAogICAgICAgICAgICAgICAgICAgIHsKICAiYnViYmxpbmdNb3VzZUV2ZW50cyI6IHRydWUsIAogICJjb2xvciI6ICJyZWQiLCAKICAiZGFzaEFycmF5IjogbnVsbCwgCiAgImRhc2hPZmZzZXQiOiBudWxsLCAKICAiZmlsbCI6IGZhbHNlLCAKICAiZmlsbENvbG9yIjogInJlZCIsIAogICJmaWxsT3BhY2l0eSI6IDAuMiwgCiAgImZpbGxSdWxlIjogImV2ZW5vZGQiLCAKICAibGluZUNhcCI6ICJyb3VuZCIsIAogICJsaW5lSm9pbiI6ICJyb3VuZCIsIAogICJub0NsaXAiOiBmYWxzZSwgCiAgIm9wYWNpdHkiOiAxLCAKICAic21vb3RoRmFjdG9yIjogMS4wLCAKICAic3Ryb2tlIjogdHJ1ZSwgCiAgIndlaWdodCI6IDIuNQp9CiAgICAgICAgICAgICAgICAgICAgKQogICAgICAgICAgICAgICAgICAgIC5hZGRUbyhtYXBfZjdiMDI5NzJkYWUzNDM5Yjk0MTYzNzJlZDFjMWY5ODcpOwogICAgICAgICAgICAKICAgIAogICAgICAgIHZhciBtYXJrZXJfNTEyZWFkNjg2YTBjNGQ0MWExODc2ZDhlZTIxM2U0ZjYgPSBMLm1hcmtlcigKICAgICAgICAgICAgWzUyLjAxNjY3LCA0LjcwODMzXSwKICAgICAgICAgICAgewogICAgICAgICAgICAgICAgaWNvbjogbmV3IEwuSWNvbi5EZWZhdWx0KCkKICAgICAgICAgICAgICAgIH0KICAgICAgICAgICAgKS5hZGRUbyhtYXBfZjdiMDI5NzJkYWUzNDM5Yjk0MTYzNzJlZDFjMWY5ODcpOwogICAgICAgIAogICAgCiAgICAgICAgICAgIHZhciBwb3B1cF9jYzlhMmZlMTNhMzU0MDM5YjE2Zjc0ZjEzZGJlMjE0ZiA9IEwucG9wdXAoe21heFdpZHRoOiAnMzAwJwogICAgICAgICAgICAKICAgICAgICAgICAgfSk7CgogICAgICAgICAgICAKICAgICAgICAgICAgICAgIHZhciBodG1sXzgxNDAwODUyMzEzMDRkNDI4ZWVkZDJhYmIwZTE1NWQ4ID0gJCgnPGRpdiBpZD0iaHRtbF84MTQwMDg1MjMxMzA0ZDQyOGVlZGQyYWJiMGUxNTVkOCIgc3R5bGU9IndpZHRoOiAxMDAuMCU7IGhlaWdodDogMTAwLjAlOyI+UG9wdWxhdGlvbiA3MDkzOTwvZGl2PicpWzBdOwogICAgICAgICAgICAgICAgcG9wdXBfY2M5YTJmZTEzYTM1NDAzOWIxNmY3NGYxM2RiZTIxNGYuc2V0Q29udGVudChodG1sXzgxNDAwODUyMzEzMDRkNDI4ZWVkZDJhYmIwZTE1NWQ4KTsKICAgICAgICAgICAgCgogICAgICAgICAgICBtYXJrZXJfNTEyZWFkNjg2YTBjNGQ0MWExODc2ZDhlZTIxM2U0ZjYuYmluZFBvcHVwKHBvcHVwX2NjOWEyZmUxM2EzNTQwMzliMTZmNzRmMTNkYmUyMTRmKQogICAgICAgICAgICA7CgogICAgICAgICAgICAKICAgICAgICAKICAgIAogICAgICAgICAgICAgICAgdmFyIHBvbHlfbGluZV80YzExYmE5YjM5MGY0ODQ1ODE1ZDEwOWQ4YTFmMmY0NSA9IEwucG9seWxpbmUoCiAgICAgICAgICAgICAgICAgICAgW1s1MS45MjI1LCA0LjQ3OTE3XSwgWzUyLjA5Mjg3NiwgNS4xMDQ0OF0sIFs1Mi4wNzg2NjMsIDQuMjg4Nzg4XV0sCiAgICAgICAgICAgICAgICAgICAgewogICJidWJibGluZ01vdXNlRXZlbnRzIjogdHJ1ZSwgCiAgImNvbG9yIjogInJlZCIsIAogICJkYXNoQXJyYXkiOiBudWxsLCAKICAiZGFzaE9mZnNldCI6IG51bGwsIAogICJmaWxsIjogZmFsc2UsIAogICJmaWxsQ29sb3IiOiAicmVkIiwgCiAgImZpbGxPcGFjaXR5IjogMC4yLCAKICAiZmlsbFJ1bGUiOiAiZXZlbm9kZCIsIAogICJsaW5lQ2FwIjogInJvdW5kIiwgCiAgImxpbmVKb2luIjogInJvdW5kIiwgCiAgIm5vQ2xpcCI6IGZhbHNlLCAKICAib3BhY2l0eSI6IDEsIAogICJzbW9vdGhGYWN0b3IiOiAxLjAsIAogICJzdHJva2UiOiB0cnVlLCAKICAid2VpZ2h0IjogMi41Cn0KICAgICAgICAgICAgICAgICAgICApCiAgICAgICAgICAgICAgICAgICAgLmFkZFRvKG1hcF9mN2IwMjk3MmRhZTM0MzliOTQxNjM3MmVkMWMxZjk4Nyk7CiAgICAgICAgICAgIAo8L3NjcmlwdD4=\" style=\"position:absolute;width:100%;height:100%;left:0;top:0;border:none !important;\" allowfullscreen webkitallowfullscreen mozallowfullscreen></iframe></div></div>"
      ],
      "text/plain": [
       "<folium.folium.Map at 0xd942d68>"
      ]
     },
     "execution_count": 207,
     "metadata": {},
     "output_type": "execute_result"
    }
   ],
   "source": [
    "G2.visualiserFolium()"
   ]
  },
  {
   "cell_type": "code",
   "execution_count": 208,
   "metadata": {},
   "outputs": [],
   "source": [
    "class Pile():\n",
    "    '''\n",
    "    Classe Pile: voir les definitions ci-dessous\n",
    "    La classe dispose d'une structure de type list pour ranger les données\n",
    "    Les consultations, les insertions, les suppressions se font du même cote\n",
    "    Dernier arrive premier servi : LIFO\n",
    "    '''\n",
    "    def __init__(self):\n",
    "        self.elements = []\n",
    "    '''\n",
    "    Insere un objet en tete de la pile\n",
    "    '''\n",
    "    def push(self,noeud):\n",
    "        self.elements.append(noeud)\n",
    "    '''\n",
    "    Retourne True si  un noeud est dans la pile\n",
    "    '''\n",
    "    \n",
    "    def contains_noeud(self, name):\n",
    "        return name in self.elements\n",
    "                \n",
    "    '''\n",
    "    Retourne true si la pile est vide\n",
    "    '''\n",
    "    def empty(self):\n",
    "        return len(self.elements) == 0\n",
    "\n",
    "    '''\n",
    "    Affiche le contenu de la pile\n",
    "    '''\n",
    "    def display(self):\n",
    "        return self.elements\n",
    "    \n",
    "    '''\n",
    "    Retourne et supprime l'element en tete de pile\n",
    "    Retourne une exception si la pile est vide\n",
    "    '''\n",
    "    def remove(self):\n",
    "        if self.empty():\n",
    "            raise Exception(\"Empty Pile.\")\n",
    "        else:\n",
    "            tete_de_pile = self.elements[-1]\n",
    "            self.elements.pop()\n",
    "            return tete_de_pile"
   ]
  },
  {
   "cell_type": "code",
   "execution_count": 209,
   "metadata": {},
   "outputs": [],
   "source": [
    "\n",
    "class File(Pile):\n",
    "    '''\n",
    "    Classe File: voir les definitions ci-dessous\n",
    "    La classe dispose d'une structure de type list pour ranger les données\n",
    "    Les éléments sont enfilés (insérés) du coté arrière et défilés (retirés)\n",
    "    du coté avant\n",
    "    Premier arrive premier servi : FIFO\n",
    "    File et Pile peuvent partager certaines methodes donc utilisez l'heritage pour definir\n",
    "    la classe File. \n",
    "    Normalement vous ne devez changer l'implementation d'une seule methode\n",
    "    '''\n",
    "\n",
    "    def remove(self):\n",
    "        if self.empty():\n",
    "            raise Exception(\"Empty Pile.\")\n",
    "        else:\n",
    "            tete_de_pile = self.elements[0]\n",
    "            self.elements.pop(0)\n",
    "            return tete_de_pile\n",
    "        "
   ]
  },
  {
   "cell_type": "code",
   "execution_count": 210,
   "metadata": {},
   "outputs": [
    {
     "ename": "SyntaxError",
     "evalue": "invalid syntax (<ipython-input-210-2038af13cd3b>, line 48)",
     "output_type": "error",
     "traceback": [
      "\u001b[1;36m  File \u001b[1;32m\"<ipython-input-210-2038af13cd3b>\"\u001b[1;36m, line \u001b[1;32m48\u001b[0m\n\u001b[1;33m    explored......\u001b[0m\n\u001b[1;37m             ^\u001b[0m\n\u001b[1;31mSyntaxError\u001b[0m\u001b[1;31m:\u001b[0m invalid syntax\n"
     ]
    }
   ],
   "source": [
    "'''\n",
    "Implémenter le parcours en profondeur non recursif entre deux noeuds\n",
    "Prend en parametre:\n",
    "- un graphe\n",
    "- un noeud source\n",
    "- un noeud destination\n",
    "Output:\n",
    "une liste contenant les noms des noeuds explorés pour aller du noeud source vers le noeud destination \n",
    "Vous completerez certaines parties du code\n",
    "'''\n",
    "\n",
    "def parcoursDFS(myGraphe,noeudSRC,noeudDST):\n",
    "        \"\"\"Trouver un parcours DFS entre noeudSRC et noeudDST\"\"\"\n",
    "\n",
    "        # Le nombre de noeuds explorés\n",
    "        num_explored = 0\n",
    "\n",
    "        # Initialisation de la frontiere avec le noeud source\n",
    "        \n",
    "        frontiere = File()\n",
    "        frontiere.push(noeudSRC)\n",
    "        for x in myGraphe.getVoisins(noeudSRC):\n",
    "            frontiere.push(x)\n",
    "\n",
    "        # Initialisation de la liste des noeuds explorés\n",
    "        explored = Pile()\n",
    "\n",
    "        # On boucle jusuq'à trouver la solution\n",
    "        while True:\n",
    "\n",
    "            # S'il n'y a aucun noeud dans la frontiére alors pas de solution\n",
    "            if frontiere.empty():\n",
    "                raise Exception(\"no solution\")\n",
    "\n",
    "            # Choisir un node dans la frontiere\n",
    "            node = None\n",
    "            num_explored += 1\n",
    "\n",
    "            # Si ce noeud est le noeud destination\n",
    "            if node.egal(noeudDST):\n",
    "                \n",
    "                # Ajouter le aux noeuds deja explorés\n",
    "                explored.add(noeudDST.name)\n",
    "                \n",
    "                return explored, num_explored\n",
    "\n",
    "            # Marquer le noeud comme explore\n",
    "            explored......\n",
    "\n",
    "            # Ajouter tous les voisins du noeud à la frontiere\n",
    "            for n in myGraphe.getVoisins(node):\n",
    "                \n",
    "                if not frontiere.contains_noeud(n[0]) and n[0] not in explored:\n",
    "                    \n",
    "                    frontiere...................\n",
    "\n"
   ]
  }
 ],
 "metadata": {
  "celltoolbar": "Aucun(e)",
  "kernelspec": {
   "display_name": "Python 2",
   "language": "python",
   "name": "python2"
  },
  "language_info": {
   "codemirror_mode": {
    "name": "ipython",
    "version": 2
   },
   "file_extension": ".py",
   "mimetype": "text/x-python",
   "name": "python",
   "nbconvert_exporter": "python",
   "pygments_lexer": "ipython2",
   "version": "2.7.16"
  }
 },
 "nbformat": 4,
 "nbformat_minor": 2
}
