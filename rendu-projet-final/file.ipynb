{
 "cells": [
  {
   "cell_type": "code",
   "execution_count": 69,
   "metadata": {},
   "outputs": [],
   "source": [
    "import networkx as nx\n",
    "import matplotlib.pyplot as plt\n",
    "import pandas as pd\n",
    "import numpy as np\n",
    "%matplotlib inline"
   ]
  },
  {
   "cell_type": "markdown",
   "metadata": {},
   "source": [
    "# Exercice sur la création des noeuds"
   ]
  },
  {
   "cell_type": "code",
   "execution_count": 70,
   "metadata": {},
   "outputs": [],
   "source": [
    "G = nx.Graph()\n",
    "G.add_edges_from([(0,1),(1,2),(2,3),(1,3),(2,5),(3,6),(0,6),(6,5),(5,0),(3,4)])"
   ]
  },
  {
   "cell_type": "code",
   "execution_count": 71,
   "metadata": {},
   "outputs": [
    {
     "data": {
      "image/png": "[encoded data removed]",
      "text/plain": [
       "<Figure size 432x288 with 1 Axes>"
      ]
     },
     "metadata": {
      "needs_background": "light"
     },
     "output_type": "display_data"
    }
   ],
   "source": [
    "plt.figure()\n",
    "nx.draw_networkx(G)"
   ]
  },
  {
   "cell_type": "code",
   "execution_count": 72,
   "metadata": {},
   "outputs": [
    {
     "data": {
      "text/html": [
       "<div>\n",
       "<style scoped>\n",
       "    .dataframe tbody tr th:only-of-type {\n",
       "        vertical-align: middle;\n",
       "    }\n",
       "\n",
       "    .dataframe tbody tr th {\n",
       "        vertical-align: top;\n",
       "    }\n",
       "\n",
       "    .dataframe thead th {\n",
       "        text-align: right;\n",
       "    }\n",
       "</style>\n",
       "<table border=\"1\" class=\"dataframe\">\n",
       "  <thead>\n",
       "    <tr style=\"text-align: right;\">\n",
       "      <th></th>\n",
       "      <th>id</th>\n",
       "      <th>latitude</th>\n",
       "      <th>longitude</th>\n",
       "      <th>population</th>\n",
       "    </tr>\n",
       "  </thead>\n",
       "  <tbody>\n",
       "    <tr>\n",
       "      <th>0</th>\n",
       "      <td>Amsterdam</td>\n",
       "      <td>52.379189</td>\n",
       "      <td>4.899431</td>\n",
       "      <td>821752</td>\n",
       "    </tr>\n",
       "    <tr>\n",
       "      <th>1</th>\n",
       "      <td>Utrecht</td>\n",
       "      <td>52.092876</td>\n",
       "      <td>5.104480</td>\n",
       "      <td>334176</td>\n",
       "    </tr>\n",
       "    <tr>\n",
       "      <th>2</th>\n",
       "      <td>Den Haag</td>\n",
       "      <td>52.078663</td>\n",
       "      <td>4.288788</td>\n",
       "      <td>514861</td>\n",
       "    </tr>\n",
       "    <tr>\n",
       "      <th>3</th>\n",
       "      <td>Immingham</td>\n",
       "      <td>53.612390</td>\n",
       "      <td>-0.222190</td>\n",
       "      <td>9642</td>\n",
       "    </tr>\n",
       "    <tr>\n",
       "      <th>4</th>\n",
       "      <td>Doncaster</td>\n",
       "      <td>53.522850</td>\n",
       "      <td>-1.131160</td>\n",
       "      <td>302400</td>\n",
       "    </tr>\n",
       "    <tr>\n",
       "      <th>5</th>\n",
       "      <td>Hoek van Holland</td>\n",
       "      <td>51.977500</td>\n",
       "      <td>4.133330</td>\n",
       "      <td>9382</td>\n",
       "    </tr>\n",
       "    <tr>\n",
       "      <th>6</th>\n",
       "      <td>Felixstowe</td>\n",
       "      <td>51.963750</td>\n",
       "      <td>1.351100</td>\n",
       "      <td>23689</td>\n",
       "    </tr>\n",
       "    <tr>\n",
       "      <th>7</th>\n",
       "      <td>Ipswich</td>\n",
       "      <td>52.059170</td>\n",
       "      <td>1.155450</td>\n",
       "      <td>133384</td>\n",
       "    </tr>\n",
       "    <tr>\n",
       "      <th>8</th>\n",
       "      <td>Colchester</td>\n",
       "      <td>51.889210</td>\n",
       "      <td>0.904210</td>\n",
       "      <td>104390</td>\n",
       "    </tr>\n",
       "    <tr>\n",
       "      <th>9</th>\n",
       "      <td>London</td>\n",
       "      <td>51.509865</td>\n",
       "      <td>-0.118092</td>\n",
       "      <td>8787892</td>\n",
       "    </tr>\n",
       "    <tr>\n",
       "      <th>10</th>\n",
       "      <td>Rotterdam</td>\n",
       "      <td>51.922500</td>\n",
       "      <td>4.479170</td>\n",
       "      <td>623652</td>\n",
       "    </tr>\n",
       "    <tr>\n",
       "      <th>11</th>\n",
       "      <td>Gouda</td>\n",
       "      <td>52.016670</td>\n",
       "      <td>4.708330</td>\n",
       "      <td>70939</td>\n",
       "    </tr>\n",
       "  </tbody>\n",
       "</table>\n",
       "</div>"
      ],
      "text/plain": [
       "                  id   latitude  longitude  population\n",
       "0          Amsterdam  52.379189   4.899431      821752\n",
       "1            Utrecht  52.092876   5.104480      334176\n",
       "2           Den Haag  52.078663   4.288788      514861\n",
       "3          Immingham  53.612390  -0.222190        9642\n",
       "4          Doncaster  53.522850  -1.131160      302400\n",
       "5   Hoek van Holland  51.977500   4.133330        9382\n",
       "6         Felixstowe  51.963750   1.351100       23689\n",
       "7            Ipswich  52.059170   1.155450      133384\n",
       "8         Colchester  51.889210   0.904210      104390\n",
       "9             London  51.509865  -0.118092     8787892\n",
       "10         Rotterdam  51.922500   4.479170      623652\n",
       "11             Gouda  52.016670   4.708330       70939"
      ]
     },
     "execution_count": 72,
     "metadata": {},
     "output_type": "execute_result"
    }
   ],
   "source": [
    "trans_nodes = pd.read_csv('data/transport-nodes.csv')\n",
    "trans_nodes"
   ]
  },
  {
   "cell_type": "code",
   "execution_count": 73,
   "metadata": {},
   "outputs": [
    {
     "data": {
      "text/html": [
       "<div>\n",
       "<style scoped>\n",
       "    .dataframe tbody tr th:only-of-type {\n",
       "        vertical-align: middle;\n",
       "    }\n",
       "\n",
       "    .dataframe tbody tr th {\n",
       "        vertical-align: top;\n",
       "    }\n",
       "\n",
       "    .dataframe thead th {\n",
       "        text-align: right;\n",
       "    }\n",
       "</style>\n",
       "<table border=\"1\" class=\"dataframe\">\n",
       "  <thead>\n",
       "    <tr style=\"text-align: right;\">\n",
       "      <th></th>\n",
       "      <th>src</th>\n",
       "      <th>dst</th>\n",
       "      <th>relationship</th>\n",
       "      <th>cost</th>\n",
       "    </tr>\n",
       "  </thead>\n",
       "  <tbody>\n",
       "    <tr>\n",
       "      <th>0</th>\n",
       "      <td>Amsterdam</td>\n",
       "      <td>Utrecht</td>\n",
       "      <td>EROAD</td>\n",
       "      <td>46</td>\n",
       "    </tr>\n",
       "    <tr>\n",
       "      <th>1</th>\n",
       "      <td>Amsterdam</td>\n",
       "      <td>Den Haag</td>\n",
       "      <td>EROAD</td>\n",
       "      <td>59</td>\n",
       "    </tr>\n",
       "    <tr>\n",
       "      <th>2</th>\n",
       "      <td>Den Haag</td>\n",
       "      <td>Rotterdam</td>\n",
       "      <td>EROAD</td>\n",
       "      <td>26</td>\n",
       "    </tr>\n",
       "    <tr>\n",
       "      <th>3</th>\n",
       "      <td>Amsterdam</td>\n",
       "      <td>Immingham</td>\n",
       "      <td>EROAD</td>\n",
       "      <td>369</td>\n",
       "    </tr>\n",
       "    <tr>\n",
       "      <th>4</th>\n",
       "      <td>Immingham</td>\n",
       "      <td>Doncaster</td>\n",
       "      <td>EROAD</td>\n",
       "      <td>74</td>\n",
       "    </tr>\n",
       "    <tr>\n",
       "      <th>5</th>\n",
       "      <td>Doncaster</td>\n",
       "      <td>London</td>\n",
       "      <td>EROAD</td>\n",
       "      <td>277</td>\n",
       "    </tr>\n",
       "    <tr>\n",
       "      <th>6</th>\n",
       "      <td>Hoek van Holland</td>\n",
       "      <td>Den Haag</td>\n",
       "      <td>EROAD</td>\n",
       "      <td>27</td>\n",
       "    </tr>\n",
       "    <tr>\n",
       "      <th>7</th>\n",
       "      <td>Felixstowe</td>\n",
       "      <td>Hoek van Holland</td>\n",
       "      <td>EROAD</td>\n",
       "      <td>207</td>\n",
       "    </tr>\n",
       "    <tr>\n",
       "      <th>8</th>\n",
       "      <td>Ipswich</td>\n",
       "      <td>Felixstowe</td>\n",
       "      <td>EROAD</td>\n",
       "      <td>22</td>\n",
       "    </tr>\n",
       "    <tr>\n",
       "      <th>9</th>\n",
       "      <td>Colchester</td>\n",
       "      <td>Ipswich</td>\n",
       "      <td>EROAD</td>\n",
       "      <td>32</td>\n",
       "    </tr>\n",
       "    <tr>\n",
       "      <th>10</th>\n",
       "      <td>London</td>\n",
       "      <td>Colchester</td>\n",
       "      <td>EROAD</td>\n",
       "      <td>106</td>\n",
       "    </tr>\n",
       "    <tr>\n",
       "      <th>11</th>\n",
       "      <td>Gouda</td>\n",
       "      <td>Rotterdam</td>\n",
       "      <td>EROAD</td>\n",
       "      <td>25</td>\n",
       "    </tr>\n",
       "    <tr>\n",
       "      <th>12</th>\n",
       "      <td>Gouda</td>\n",
       "      <td>Utrecht</td>\n",
       "      <td>EROAD</td>\n",
       "      <td>35</td>\n",
       "    </tr>\n",
       "    <tr>\n",
       "      <th>13</th>\n",
       "      <td>Den Haag</td>\n",
       "      <td>Gouda</td>\n",
       "      <td>EROAD</td>\n",
       "      <td>32</td>\n",
       "    </tr>\n",
       "    <tr>\n",
       "      <th>14</th>\n",
       "      <td>Hoek van Holland</td>\n",
       "      <td>Rotterdam</td>\n",
       "      <td>EROAD</td>\n",
       "      <td>33</td>\n",
       "    </tr>\n",
       "  </tbody>\n",
       "</table>\n",
       "</div>"
      ],
      "text/plain": [
       "                 src               dst relationship  cost\n",
       "0          Amsterdam           Utrecht        EROAD    46\n",
       "1          Amsterdam          Den Haag        EROAD    59\n",
       "2           Den Haag         Rotterdam        EROAD    26\n",
       "3          Amsterdam         Immingham        EROAD   369\n",
       "4          Immingham         Doncaster        EROAD    74\n",
       "5          Doncaster            London        EROAD   277\n",
       "6   Hoek van Holland          Den Haag        EROAD    27\n",
       "7         Felixstowe  Hoek van Holland        EROAD   207\n",
       "8            Ipswich        Felixstowe        EROAD    22\n",
       "9         Colchester           Ipswich        EROAD    32\n",
       "10            London        Colchester        EROAD   106\n",
       "11             Gouda         Rotterdam        EROAD    25\n",
       "12             Gouda           Utrecht        EROAD    35\n",
       "13          Den Haag             Gouda        EROAD    32\n",
       "14  Hoek van Holland         Rotterdam        EROAD    33"
      ]
     },
     "execution_count": 73,
     "metadata": {},
     "output_type": "execute_result"
    }
   ],
   "source": [
    "trans_arcs = pd.read_csv('data/transport-relationships.csv')\n",
    "trans_arcs"
   ]
  },
  {
   "cell_type": "code",
   "execution_count": 74,
   "metadata": {},
   "outputs": [],
   "source": [
    "G1 = nx.from_pandas_edgelist(trans_arcs, 'src' ,'dst',['relationship','cost'])"
   ]
  },
  {
   "cell_type": "code",
   "execution_count": 75,
   "metadata": {},
   "outputs": [
    {
     "data": {
      "image/png": "[encoded data removed]",
      "text/plain": [
       "<Figure size 432x288 with 1 Axes>"
      ]
     },
     "metadata": {
      "needs_background": "light"
     },
     "output_type": "display_data"
    }
   ],
   "source": [
    "plt.figure()\n",
    "nx.draw_networkx(G1) # 'with_labels=False' comme deuxième entrée pour cacher les titres"
   ]
  },
  {
   "cell_type": "code",
   "execution_count": 76,
   "metadata": {},
   "outputs": [
    {
     "data": {
      "text/plain": [
       "{}"
      ]
     },
     "execution_count": 76,
     "metadata": {},
     "output_type": "execute_result"
    }
   ],
   "source": [
    "G1.node['Gouda']"
   ]
  },
  {
   "cell_type": "code",
   "execution_count": 77,
   "metadata": {},
   "outputs": [],
   "source": [
    "def ajouterAttribut(myGraphe,dfnoeuds, nomAttribut,nomIndex):\n",
    "    for i in range(dfnoeuds.count().id):\n",
    "        ville = dfnoeuds.id[i]\n",
    "        val_attr = dfnoeuds[dfnoeuds[nomIndex] == ville][nomAttribut]\n",
    "        myGraphe.add_node(ville, **{nomAttribut : val_attr[i]})   "
   ]
  },
  {
   "cell_type": "code",
   "execution_count": 78,
   "metadata": {},
   "outputs": [],
   "source": [
    "ajouterAttribut(G1,trans_nodes, 'latitude','id')\n",
    "ajouterAttribut(G1,trans_nodes, 'longitude','id')\n",
    "ajouterAttribut(G1,trans_nodes, 'population','id')"
   ]
  },
  {
   "cell_type": "code",
   "execution_count": 79,
   "metadata": {},
   "outputs": [
    {
     "data": {
      "text/plain": [
       "[('Gouda', {'latitude': 52.01667, 'longitude': 4.70833, 'population': 70939}),\n",
       " ('Immingham',\n",
       "  {'latitude': 53.612390000000005, 'longitude': -0.22219, 'population': 9642}),\n",
       " ('Felixstowe',\n",
       "  {'latitude': 51.96375, 'longitude': 1.3511, 'population': 23689}),\n",
       " ('Hoek van Holland',\n",
       "  {'latitude': 51.9775, 'longitude': 4.13333, 'population': 9382}),\n",
       " ('London',\n",
       "  {'latitude': 51.509865000000005,\n",
       "   'longitude': -0.118092,\n",
       "   'population': 8787892}),\n",
       " ('Utrecht',\n",
       "  {'latitude': 52.092876000000004,\n",
       "   'longitude': 5.104480000000001,\n",
       "   'population': 334176}),\n",
       " ('Ipswich',\n",
       "  {'latitude': 52.05917, 'longitude': 1.15545, 'population': 133384}),\n",
       " ('Amsterdam',\n",
       "  {'latitude': 52.379189000000004,\n",
       "   'longitude': 4.899431,\n",
       "   'population': 821752}),\n",
       " ('Doncaster',\n",
       "  {'latitude': 53.52285, 'longitude': -1.13116, 'population': 302400}),\n",
       " ('Rotterdam',\n",
       "  {'latitude': 51.9225, 'longitude': 4.47917, 'population': 623652}),\n",
       " ('Colchester',\n",
       "  {'latitude': 51.88921,\n",
       "   'longitude': 0.9042100000000001,\n",
       "   'population': 104390}),\n",
       " ('Den Haag',\n",
       "  {'latitude': 52.078663,\n",
       "   'longitude': 4.288787999999999,\n",
       "   'population': 514861})]"
      ]
     },
     "execution_count": 79,
     "metadata": {},
     "output_type": "execute_result"
    }
   ],
   "source": [
    "G1.node.items()"
   ]
  },
  {
   "cell_type": "code",
   "execution_count": 80,
   "metadata": {},
   "outputs": [
    {
     "data": {
      "text/plain": [
       "[(('Gouda', 'Rotterdam'), {'cost': 25L, 'relationship': 'EROAD'}),\n",
       " (('Gouda', 'Utrecht'), {'cost': 35L, 'relationship': 'EROAD'}),\n",
       " (('Gouda', 'Den Haag'), {'cost': 32L, 'relationship': 'EROAD'}),\n",
       " (('Immingham', 'Amsterdam'), {'cost': 369L, 'relationship': 'EROAD'}),\n",
       " (('Immingham', 'Doncaster'), {'cost': 74L, 'relationship': 'EROAD'}),\n",
       " (('Felixstowe', 'Ipswich'), {'cost': 22L, 'relationship': 'EROAD'}),\n",
       " (('Felixstowe', 'Hoek van Holland'), {'cost': 207L, 'relationship': 'EROAD'}),\n",
       " (('Hoek van Holland', 'Rotterdam'), {'cost': 33L, 'relationship': 'EROAD'}),\n",
       " (('Hoek van Holland', 'Den Haag'), {'cost': 27L, 'relationship': 'EROAD'}),\n",
       " (('London', 'Doncaster'), {'cost': 277L, 'relationship': 'EROAD'}),\n",
       " (('London', 'Colchester'), {'cost': 106L, 'relationship': 'EROAD'}),\n",
       " (('Utrecht', 'Amsterdam'), {'cost': 46L, 'relationship': 'EROAD'}),\n",
       " (('Ipswich', 'Colchester'), {'cost': 32L, 'relationship': 'EROAD'}),\n",
       " (('Amsterdam', 'Den Haag'), {'cost': 59L, 'relationship': 'EROAD'}),\n",
       " (('Rotterdam', 'Den Haag'), {'cost': 26L, 'relationship': 'EROAD'})]"
      ]
     },
     "execution_count": 80,
     "metadata": {},
     "output_type": "execute_result"
    }
   ],
   "source": [
    "G1.edges.items()"
   ]
  },
  {
   "cell_type": "markdown",
   "metadata": {},
   "source": [
    "\n",
    "\n",
    "# Affichage de la carte"
   ]
  },
  {
   "cell_type": "code",
   "execution_count": 81,
   "metadata": {},
   "outputs": [],
   "source": [
    "import folium\n",
    "'''\n",
    "On construit le Map avec une location par defaut\n",
    "'''\n",
    "basemap = folium.Map(\n",
    "    location=[52.3791890, 4.899431],\n",
    "    tiles='Stamen Toner',\n",
    "    zoom_start=12,\n",
    "    \n",
    ")\n"
   ]
  },
  {
   "cell_type": "code",
   "execution_count": 82,
   "metadata": {},
   "outputs": [
    {
     "data": {
      "text/html": [
       "<div style=\"width:100%;\"><div style=\"position:relative;width:100%;height:0;padding-bottom:60%;\"><iframe src=\"data:text/html;charset=utf-8;base64,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\" style=\"position:absolute;width:100%;height:100%;left:0;top:0;border:none !important;\" allowfullscreen webkitallowfullscreen mozallowfullscreen></iframe></div></div>"
      ],
      "text/plain": [
       "<folium.folium.Map at 0xc308c50>"
      ]
     },
     "execution_count": 82,
     "metadata": {},
     "output_type": "execute_result"
    }
   ],
   "source": [
    "basemap"
   ]
  },
  {
   "cell_type": "code",
   "execution_count": 83,
   "metadata": {},
   "outputs": [
    {
     "data": {
      "text/plain": [
       "52.01667"
      ]
     },
     "execution_count": 83,
     "metadata": {},
     "output_type": "execute_result"
    }
   ],
   "source": [
    "G1.node.items()[0][1]['latitude']"
   ]
  },
  {
   "cell_type": "markdown",
   "metadata": {},
   "source": [
    "\n",
    "\n",
    "## Villes"
   ]
  },
  {
   "cell_type": "code",
   "execution_count": 84,
   "metadata": {},
   "outputs": [
    {
     "data": {
      "text/plain": [
       "['Gouda',\n",
       " 'Immingham',\n",
       " 'Felixstowe',\n",
       " 'Hoek van Holland',\n",
       " 'London',\n",
       " 'Utrecht',\n",
       " 'Ipswich',\n",
       " 'Amsterdam',\n",
       " 'Doncaster',\n",
       " 'Rotterdam',\n",
       " 'Colchester',\n",
       " 'Den Haag']"
      ]
     },
     "execution_count": 84,
     "metadata": {},
     "output_type": "execute_result"
    }
   ],
   "source": [
    "cities = [a[0] for a in G1.node.items()]\n",
    "cities"
   ]
  },
  {
   "cell_type": "markdown",
   "metadata": {},
   "source": [
    "\n",
    "\n",
    "\n",
    "\n",
    "# Placement des Marqueurs"
   ]
  },
  {
   "cell_type": "code",
   "execution_count": 85,
   "metadata": {},
   "outputs": [
    {
     "data": {
      "text/html": [
       "<div style=\"width:100%;\"><div style=\"position:relative;width:100%;height:0;padding-bottom:60%;\"><iframe src=\"data:text/html;charset=utf-8;base64,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\" style=\"position:absolute;width:100%;height:100%;left:0;top:0;border:none !important;\" allowfullscreen webkitallowfullscreen mozallowfullscreen></iframe></div></div>"
      ],
      "text/plain": [
       "<folium.folium.Map at 0xc308c50>"
      ]
     },
     "execution_count": 85,
     "metadata": {},
     "output_type": "execute_result"
    }
   ],
   "source": [
    "for i in G1.node.items():\n",
    "    folium.Marker(\n",
    "        location=[i[1]['latitude'],i[1]['longitude']],\n",
    "        popup='Population '+str(i[1]['population']),\n",
    "    ).add_to(basemap)\n",
    "basemap.zoom_start = 6\n",
    "basemap"
   ]
  },
  {
   "cell_type": "code",
   "execution_count": 86,
   "metadata": {},
   "outputs": [],
   "source": [
    "def construirePointsImage(myGraphe):\n",
    "    points = []\n",
    "    for i in myGraphe.node.items():\n",
    "        for neighbor in list(myGraphe.neighbors(i[0])):\n",
    "            S = []\n",
    "            S.append([i[1][\"latitude\"],i[1][\"longitude\"]])\n",
    "            S.append([myGraphe.node[neighbor][\"latitude\"],myGraphe.node[neighbor][\"longitude\"]])\n",
    "            points.append(S)\n",
    "    return points"
   ]
  },
  {
   "cell_type": "code",
   "execution_count": 87,
   "metadata": {},
   "outputs": [
    {
     "data": {
      "text/plain": [
       "[[52.01667, 4.70833], [51.9225, 4.47917]]"
      ]
     },
     "execution_count": 87,
     "metadata": {},
     "output_type": "execute_result"
    }
   ],
   "source": [
    "coordonneesvoisins = construirePointsImage(G1)\n",
    "coordonneesvoisins[0]"
   ]
  },
  {
   "cell_type": "markdown",
   "metadata": {},
   "source": [
    "\n",
    "\n",
    "\n",
    "\n",
    "\n",
    "# Représentation des itinéraires"
   ]
  },
  {
   "cell_type": "code",
   "execution_count": 88,
   "metadata": {},
   "outputs": [
    {
     "data": {
      "text/html": [
       "<div style=\"width:100%;\"><div style=\"position:relative;width:100%;height:0;padding-bottom:60%;\"><iframe src=\"data:text/html;charset=utf-8;base64,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\" style=\"position:absolute;width:100%;height:100%;left:0;top:0;border:none !important;\" allowfullscreen webkitallowfullscreen mozallowfullscreen></iframe></div></div>"
      ],
      "text/plain": [
       "<folium.folium.Map at 0xc308c50>"
      ]
     },
     "execution_count": 88,
     "metadata": {},
     "output_type": "execute_result"
    }
   ],
   "source": [
    "folium.PolyLine(coordonneesvoisins, color=\"red\", weight=2.5, opacity=1).add_to(basemap)\n",
    "basemap"
   ]
  },
  {
   "cell_type": "markdown",
   "metadata": {},
   "source": [
    "\n",
    "\n",
    "\n",
    "\n",
    "\n",
    "# Création de Noeud"
   ]
  },
  {
   "cell_type": "code",
   "execution_count": 89,
   "metadata": {},
   "outputs": [
    {
     "data": {
      "text/plain": [
       "['Rotterdam', 'Utrecht', 'Den Haag']"
      ]
     },
     "execution_count": 89,
     "metadata": {},
     "output_type": "execute_result"
    }
   ],
   "source": [
    "class Noeud:\n",
    "    def __init__(self,name):\n",
    "        self.name = name\n",
    "        self.attributs = {}\n",
    "        self.listeNomVoisin = []\n",
    "        \n",
    "    def setAttribut(self,key, values):\n",
    "        self.attributs[key] = values\n",
    "        \n",
    "    def getAttribut(self,key):\n",
    "        return self.attributs[key]\n",
    "    \n",
    "    def getName(self):\n",
    "        return self.name\n",
    "    \n",
    "    def setVoisins(self, myGraphe):\n",
    "        try:\n",
    "            self.listeNomVoisin = list(myGraphe.neighbors(self.name))\n",
    "        except:\n",
    "            pass\n",
    "        \n",
    "    def getVoisins(self):\n",
    "        return self.listeNomVoisin\n",
    "    '''\n",
    "    Deux noeuds sont egaux s'ils ont même name\n",
    "    '''\n",
    "    def egal(self, noeud):\n",
    "        pass\n",
    "\n",
    "n = Noeud('Gouda')\n",
    "n.setVoisins(G1)\n",
    "n.getVoisins()"
   ]
  },
  {
   "cell_type": "markdown",
   "metadata": {},
   "source": [
    "\n",
    "\n",
    "\n",
    "\n",
    "\n",
    "\n",
    "\n",
    "# Création de Graphe"
   ]
  },
  {
   "cell_type": "code",
   "execution_count": 90,
   "metadata": {},
   "outputs": [],
   "source": [
    "import csv\n",
    "class Graphe:\n",
    "    '''\n",
    "    Les noeuds seront mis dans une liste\n",
    "    Les arcs forment un dictionnaire avec comme clé les noms des noeuds et comme valeurs une liste de noeud\n",
    "    '''\n",
    "    def __init__(self):\n",
    "        self.noeuds = []\n",
    "        self.arcs = {}\n",
    "    \n",
    "    \n",
    "    def creerNoeuds(self,fichiernoeuds):\n",
    "        with open(fichiernoeuds, 'r') as file:\n",
    "            nodes_file = csv.reader(file)\n",
    "            E = list(nodes_file)\n",
    "            del E[0]\n",
    "            self.noeuds = E\n",
    "#             return E\n",
    "    \n",
    "    def listNoeuds(self):\n",
    "        nodes = tuple(x for x in self.noeuds)\n",
    "        nodes = np.delete(nodes, (0,3), 1)\n",
    "        return nodes.tolist()\n",
    "    \n",
    "    def listNoeudsNames(self):\n",
    "        nodes = tuple(x for x in self.noeuds)\n",
    "        nodes = np.delete(nodes, (1,2,3), 1).tolist()\n",
    "        nodes = [y[0] for y in nodes]\n",
    "        return nodes\n",
    "        \n",
    "\n",
    "    def creerArc(self, fichierarcs):\n",
    "        with open(fichierarcs, 'r') as file:\n",
    "            arcs_file = csv.reader(file)\n",
    "            self.arcs = list(arcs_file)\n",
    "#             return self.arcs\n",
    "    \n",
    "    \n",
    "    \n",
    "    def getNoeud(self,name):\n",
    "        n = np.array(self.noeuds)\n",
    "        return n[np.where(n[:,0] == name)]\n",
    "    \n",
    "    \n",
    "    \n",
    "    def getVoisins(self,noeud):\n",
    "        D = self.arcs\n",
    "        D = np.delete(D, (2,3), 1)\n",
    "        D = np.delete(D, 0, 0)\n",
    "\n",
    "        voisins1 = [D[i,1] for i in range(D.shape[0]) if D[i,0]==noeud]\n",
    "        voisins2 = [D[i,0] for i in range(D.shape[0]) if D[i,1]==noeud]\n",
    "        voisins = voisins1 + voisins2\n",
    "        return voisins\n",
    "    \n",
    "    \n",
    "    \n",
    "    def getCoordonnesVoisins(self, noeud):\n",
    "        voisins = self.getVoisins(noeud)\n",
    "        listecoord = tuple((self.getNoeud(voisin) for voisin in voisins))\n",
    "        listecoord = np.concatenate(listecoord, axis=0)\n",
    "        listecoord = np.delete(listecoord, (0,3), 1)\n",
    "        listecoord = listecoord.tolist()\n",
    "        listecoord = [[float(i) for i in x] for x in listecoord]\n",
    "        return listecoord\n",
    "        \n",
    "    \n",
    "    '''\n",
    "    Recuperer les coordonnees d'une liste de neouds pour visualiser sous folium\n",
    "    Prend en entrée une liste de nom de noeud\n",
    "    Retourne une liste de sous-listes à deux elements de coordonnées\n",
    "    '''\n",
    "    def getListeCoordonnees(self,listeNoeuds):\n",
    "        coord = tuple((np.delete(self.getNoeud(name), (0,3), 1) for name in listeNoeuds))\n",
    "        coord = np.concatenate(coord, axis=0)\n",
    "        coord = coord.tolist()\n",
    "        coord = [[float(i) for i in x] for x in coord]\n",
    "        return coord\n",
    "    \n",
    "    '''\n",
    "    Visualiser les noeuds et les arcs sous folium\n",
    "    Entree: le parametre explored sera utilisé pour les parcours de graphe\n",
    "    '''\n",
    "    \n",
    "    def visualiserFolium(self, locationpardefaut = [52.3791890, 4.899431],tiles='Stamen Toner',explored = None ):\n",
    "    \n",
    "        basemap = folium.Map(location= locationpardefaut,zoom_start=6,tiles=tiles)\n",
    "        \n",
    "        for i in self.noeuds:\n",
    "            folium.Marker(\n",
    "                location=[float(i[1]),float(i[2])],\n",
    "                popup='Population '+str(i[3]),\n",
    "            ).add_to(basemap)\n",
    "            \n",
    "            locations = self.getCoordonnesVoisins(i[0])\n",
    "            if len(locations)!= 0:\n",
    "                folium.PolyLine(locations, color=\"red\", weight=2.5, opacity=1).add_to(basemap)\n",
    "        if explored != None:\n",
    "            folium.PolyLine(self.getListeCoordonnees(explored), color=\"green\", weight=2.5, opacity=1).add_to(basemap)\n",
    "        return basemap"
   ]
  },
  {
   "cell_type": "code",
   "execution_count": 91,
   "metadata": {},
   "outputs": [
    {
     "data": {
      "text/plain": [
       "['Amsterdam',\n",
       " 'Utrecht',\n",
       " 'Den Haag',\n",
       " 'Immingham',\n",
       " 'Doncaster',\n",
       " 'Hoek van Holland',\n",
       " 'Felixstowe',\n",
       " 'Ipswich',\n",
       " 'Colchester',\n",
       " 'London',\n",
       " 'Rotterdam',\n",
       " 'Gouda']"
      ]
     },
     "execution_count": 91,
     "metadata": {},
     "output_type": "execute_result"
    }
   ],
   "source": [
    "G2 = Graphe()\n",
    "G2.creerNoeuds('data/transport-nodes.csv')\n",
    "G2.creerArc('data/transport-relationships.csv')\n",
    "G2.listNoeudsNames()"
   ]
  },
  {
   "cell_type": "code",
   "execution_count": 92,
   "metadata": {},
   "outputs": [
    {
     "data": {
      "text/plain": [
       "array([['Amsterdam', '52.379189', '4.899431', '821752']], dtype='|S16')"
      ]
     },
     "execution_count": 92,
     "metadata": {},
     "output_type": "execute_result"
    }
   ],
   "source": [
    "G2.getNoeud('Amsterdam')"
   ]
  },
  {
   "cell_type": "code",
   "execution_count": 93,
   "metadata": {},
   "outputs": [
    {
     "data": {
      "text/plain": [
       "['Utrecht', 'Den Haag', 'Immingham']"
      ]
     },
     "execution_count": 93,
     "metadata": {},
     "output_type": "execute_result"
    }
   ],
   "source": [
    "G2.getVoisins('Amsterdam')"
   ]
  },
  {
   "cell_type": "code",
   "execution_count": 94,
   "metadata": {
    "scrolled": false
   },
   "outputs": [
    {
     "data": {
      "text/plain": [
       "[[52.092876, 5.10448], [52.078663, 4.288788], [53.61239, -0.22219]]"
      ]
     },
     "execution_count": 94,
     "metadata": {},
     "output_type": "execute_result"
    }
   ],
   "source": [
    "G2.getCoordonnesVoisins('Amsterdam')"
   ]
  },
  {
   "cell_type": "code",
   "execution_count": 95,
   "metadata": {},
   "outputs": [
    {
     "data": {
      "text/plain": [
       "[[52.379189, 4.899431], [51.509865, -0.118092]]"
      ]
     },
     "execution_count": 95,
     "metadata": {},
     "output_type": "execute_result"
    }
   ],
   "source": [
    "G2.getListeCoordonnees(['Amsterdam','London'])"
   ]
  },
  {
   "cell_type": "code",
   "execution_count": 96,
   "metadata": {},
   "outputs": [],
   "source": [
    "G2.creerNoeuds('data/transport-nodes.csv')"
   ]
  },
  {
   "cell_type": "code",
   "execution_count": 97,
   "metadata": {},
   "outputs": [
    {
     "data": {
      "text/html": [
       "<div style=\"width:100%;\"><div style=\"position:relative;width:100%;height:0;padding-bottom:60%;\"><iframe src=\"data:text/html;charset=utf-8;base64,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\" style=\"position:absolute;width:100%;height:100%;left:0;top:0;border:none !important;\" allowfullscreen webkitallowfullscreen mozallowfullscreen></iframe></div></div>"
      ],
      "text/plain": [
       "<folium.folium.Map at 0xdd9d908>"
      ]
     },
     "execution_count": 97,
     "metadata": {},
     "output_type": "execute_result"
    }
   ],
   "source": [
    "G2.visualiserFolium()"
   ]
  },
  {
   "cell_type": "markdown",
   "metadata": {},
   "source": [
    "\n",
    "\n",
    "\n",
    "\n",
    "\n",
    "\n",
    "\n",
    "# Types abstraits de données (Pile et File)"
   ]
  },
  {
   "cell_type": "code",
   "execution_count": 98,
   "metadata": {},
   "outputs": [],
   "source": [
    "class Pile():\n",
    "    '''\n",
    "    Classe Pile: voir les definitions ci-dessous\n",
    "    La classe dispose d'une structure de type list pour ranger les données\n",
    "    Les consultations, les insertions, les suppressions se font du même cote\n",
    "    Dernier arrive premier servi : LIFO\n",
    "    '''\n",
    "    def __init__(self):\n",
    "        self.elements = []\n",
    "    '''\n",
    "    Insere un objet en tete de la pile\n",
    "    '''\n",
    "    def push(self,noeud):\n",
    "        self.elements.append(noeud)\n",
    "        \n",
    "    def pushList(self,list):\n",
    "        for x in list:\n",
    "            self.push(x)\n",
    "    '''\n",
    "    Retourne True si  un noeud est dans la pile\n",
    "    '''\n",
    "    \n",
    "    def contains_noeud(self, name):\n",
    "        return name in self.elements\n",
    "                \n",
    "    '''\n",
    "    Retourne true si la pile est vide\n",
    "    '''\n",
    "    def empty(self):\n",
    "        return len(self.elements) == 0\n",
    "\n",
    "    '''\n",
    "    Affiche le contenu de la pile\n",
    "    '''\n",
    "    def display(self):\n",
    "        return self.elements\n",
    "    \n",
    "    '''\n",
    "    Retourne et supprime l'element en tete de pile\n",
    "    Retourne une exception si la pile est vide\n",
    "    '''\n",
    "    def remove(self):\n",
    "        if self.empty():\n",
    "            raise Exception(\"Empty Pile.\")\n",
    "        else:\n",
    "            tete_de_pile = self.elements[-1]\n",
    "            self.elements.pop()\n",
    "            return tete_de_pile"
   ]
  },
  {
   "cell_type": "code",
   "execution_count": 99,
   "metadata": {},
   "outputs": [],
   "source": [
    "\n",
    "class File(Pile):\n",
    "    '''\n",
    "    Classe File: voir les definitions ci-dessous\n",
    "    La classe dispose d'une structure de type list pour ranger les données\n",
    "    Les éléments sont enfilés (insérés) du coté arrière et défilés (retirés)\n",
    "    du coté avant\n",
    "    Premier arrive premier servi : FIFO\n",
    "    File et Pile peuvent partager certaines methodes donc utilisez l'heritage pour definir\n",
    "    la classe File. \n",
    "    Normalement vous ne devez changer l'implementation d'une seule methode\n",
    "    '''\n",
    "\n",
    "    def remove(self):\n",
    "        if self.empty():\n",
    "            raise Exception(\"Empty Pile.\")\n",
    "        else:\n",
    "            tete_de_pile = self.elements[0]\n",
    "            self.elements.pop(0)\n",
    "            return tete_de_pile\n",
    "        "
   ]
  },
  {
   "cell_type": "code",
   "execution_count": 105,
   "metadata": {},
   "outputs": [],
   "source": [
    "'''\n",
    "Implémenter le parcours en profondeur non recursif entre deux noeuds\n",
    "Prend en parametre:\n",
    "- un graphe\n",
    "- un noeud source\n",
    "- un noeud destination\n",
    "Output:\n",
    "une liste contenant les noms des noeuds explorés pour aller du noeud source vers le noeud destination \n",
    "Vous completerez certaines parties du code\n",
    "'''\n",
    "\n",
    "def parcoursDFS(myGraphe,noeudSRC,noeudDST):\n",
    "        \"\"\"Trouver un parcours DFS entre noeudSRC et noeudDST\"\"\"\n",
    "\n",
    "        # Initialisation de la frontiere avec le noeud \n",
    "        \n",
    "        unvisited = myGraphe.listNoeudsNames()\n",
    "        explored = File()\n",
    "        queue = Pile()\n",
    "        \n",
    "        src = noeudSRC.name\n",
    "        dst = noeudDST.name\n",
    "        \n",
    "        # Visite de départ\n",
    "        explored.push(src)\n",
    "        queue.push(src)\n",
    "        unvisited.remove(src)\n",
    "        \n",
    "        while dst != None:\n",
    "            #Recherche des voisins\n",
    "            v = myGraphe.getVoisins(dst)\n",
    "            queue.push(dst)\n",
    "            if (dst in unvisited):\n",
    "                unvisited.remove(dst)\n",
    "                explored.push(dst)\n",
    "            else:\n",
    "                break\n",
    "\n",
    "            visit = 0\n",
    "            for x in v:\n",
    "                if (x in unvisited):\n",
    "                    dst = x\n",
    "                    visit += 1\n",
    "                    break\n",
    "\n",
    "            if visit == 0:\n",
    "                if (queue.empty() != True):\n",
    "                    dst = queue.remove()\n",
    "                else:\n",
    "                    dst = None\n",
    "                    break\n",
    "        return queue.display()\n"
   ]
  },
  {
   "cell_type": "code",
   "execution_count": 107,
   "metadata": {},
   "outputs": [
    {
     "data": {
      "text/html": [
       "<div style=\"width:100%;\"><div style=\"position:relative;width:100%;height:0;padding-bottom:60%;\"><iframe src=\"data:text/html;charset=utf-8;base64,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\" style=\"position:absolute;width:100%;height:100%;left:0;top:0;border:none !important;\" allowfullscreen webkitallowfullscreen mozallowfullscreen></iframe></div></div>"
      ],
      "text/plain": [
       "<folium.folium.Map at 0xd756d30>"
      ]
     },
     "execution_count": 107,
     "metadata": {},
     "output_type": "execute_result"
    }
   ],
   "source": [
    "# Visualisation des arcs en rouge et visualisation des noeuds parcourus pour aller du premier au deuxieme noeud en vert\n",
    "\n",
    "\n",
    "\n",
    "nodesList = parcoursDFS(G2,Noeud(G2.noeuds[0][0]),Noeud(G2.noeuds[1][0]))\n",
    "\n",
    "G2.visualiserFolium(explored = nodesList)\n",
    "# nodesList"
   ]
  },
  {
   "cell_type": "code",
   "execution_count": 102,
   "metadata": {},
   "outputs": [
    {
     "data": {
      "text/plain": [
       "[[52.379189, 4.899431],\n",
       " [52.092876, 5.10448],\n",
       " [52.01667, 4.70833],\n",
       " [51.9225, 4.47917],\n",
       " [52.078663, 4.288788],\n",
       " [51.9775, 4.13333],\n",
       " [51.96375, 1.3511],\n",
       " [52.05917, 1.15545],\n",
       " [51.88921, 0.90421],\n",
       " [51.509865, -0.118092],\n",
       " [53.52285, -1.13116],\n",
       " [53.61239, -0.22219]]"
      ]
     },
     "execution_count": 102,
     "metadata": {},
     "output_type": "execute_result"
    }
   ],
   "source": [
    "nodesList"
   ]
  },
  {
   "cell_type": "code",
   "execution_count": null,
   "metadata": {},
   "outputs": [],
   "source": []
  }
 ],
 "metadata": {
  "celltoolbar": "Aucun(e)",
  "kernelspec": {
   "display_name": "Python 2",
   "language": "python",
   "name": "python2"
  },
  "language_info": {
   "codemirror_mode": {
    "name": "ipython",
    "version": 2
   },
   "file_extension": ".py",
   "mimetype": "text/x-python",
   "name": "python",
   "nbconvert_exporter": "python",
   "pygments_lexer": "ipython2",
   "version": "2.7.16"
  }
 },
 "nbformat": 4,
 "nbformat_minor": 2
}
